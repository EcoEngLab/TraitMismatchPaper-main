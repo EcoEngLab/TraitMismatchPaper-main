{
 "cells": [
  {
   "cell_type": "code",
   "execution_count": 3,
   "id": "e053f591-b6b1-46a7-b55f-1cb1aade4b6a",
   "metadata": {},
   "outputs": [],
   "source": [
    "rm(list=ls())\n",
    "graphics.off()\n",
    "\n",
    "require('tidyverse')\n",
    "require('data.table')\n",
    "require('rTPC')\n",
    "require('car')\n",
    "require('grDevices')\n",
    "require('Cairo')\n",
    "require('ggplot2')\n",
    "require('ggpubr')\n",
    "require('patchwork')\n",
    "require('cowplot')\n",
    "require('ggtext')"
   ]
  },
  {
   "cell_type": "code",
   "execution_count": 6,
   "id": "4737e5da-c4bd-4edd-b51d-ea83a8a4f7f5",
   "metadata": {},
   "outputs": [
    {
     "name": "stderr",
     "output_type": "stream",
     "text": [
      "\n",
      "\u001b[36m──\u001b[39m \u001b[1m\u001b[1mColumn specification\u001b[1m\u001b[22m \u001b[36m───────────────────────────────────────────────────────────────────────────────────────────────────────────────────────\u001b[39m\n",
      "cols(\n",
      "  .default = col_character(),\n",
      "  originaltraitvalue = \u001b[32mcol_double()\u001b[39m,\n",
      "  originalerrorpos = \u001b[32mcol_double()\u001b[39m,\n",
      "  originalerrorneg = \u001b[32mcol_double()\u001b[39m,\n",
      "  standardisedtraitvalue = \u001b[32mcol_double()\u001b[39m,\n",
      "  latitude = \u001b[32mcol_double()\u001b[39m,\n",
      "  longitude = \u001b[32mcol_double()\u001b[39m\n",
      ")\n",
      "\u001b[36mℹ\u001b[39m Use \u001b[30m\u001b[47m\u001b[30m\u001b[47m`spec()`\u001b[47m\u001b[30m\u001b[49m\u001b[39m for the full column specifications.\n",
      "\n",
      "\n"
     ]
    },
    {
     "data": {
      "text/html": [
       "<table>\n",
       "<caption>A tibble: 6 × 3</caption>\n",
       "<thead>\n",
       "\t<tr><th scope=col>latspecies</th><th scope=col>latitude</th><th scope=col>Latcurve_ID</th></tr>\n",
       "\t<tr><th scope=col>&lt;chr&gt;</th><th scope=col>&lt;dbl&gt;</th><th scope=col>&lt;chr&gt;</th></tr>\n",
       "</thead>\n",
       "<tbody>\n",
       "\t<tr><td>Aedes albopictus           </td><td>46.07488</td><td>1 </td></tr>\n",
       "\t<tr><td>Bemisia tabaci             </td><td>-6.80000</td><td>10</td></tr>\n",
       "\t<tr><td>Tetraneura nigriabdominalis</td><td>24.15000</td><td>11</td></tr>\n",
       "\t<tr><td>Stethorus punctillum       </td><td>46.79110</td><td>12</td></tr>\n",
       "\t<tr><td>Tetranychus mcdanieli      </td><td>46.79110</td><td>13</td></tr>\n",
       "\t<tr><td>Tetranychus urticae        </td><td>35.70969</td><td>14</td></tr>\n",
       "</tbody>\n",
       "</table>\n"
      ],
      "text/latex": [
       "A tibble: 6 × 3\n",
       "\\begin{tabular}{lll}\n",
       " latspecies & latitude & Latcurve\\_ID\\\\\n",
       " <chr> & <dbl> & <chr>\\\\\n",
       "\\hline\n",
       "\t Aedes albopictus            & 46.07488 & 1 \\\\\n",
       "\t Bemisia tabaci              & -6.80000 & 10\\\\\n",
       "\t Tetraneura nigriabdominalis & 24.15000 & 11\\\\\n",
       "\t Stethorus punctillum        & 46.79110 & 12\\\\\n",
       "\t Tetranychus mcdanieli       & 46.79110 & 13\\\\\n",
       "\t Tetranychus urticae         & 35.70969 & 14\\\\\n",
       "\\end{tabular}\n"
      ],
      "text/markdown": [
       "\n",
       "A tibble: 6 × 3\n",
       "\n",
       "| latspecies &lt;chr&gt; | latitude &lt;dbl&gt; | Latcurve_ID &lt;chr&gt; |\n",
       "|---|---|---|\n",
       "| Aedes albopictus            | 46.07488 | 1  |\n",
       "| Bemisia tabaci              | -6.80000 | 10 |\n",
       "| Tetraneura nigriabdominalis | 24.15000 | 11 |\n",
       "| Stethorus punctillum        | 46.79110 | 12 |\n",
       "| Tetranychus mcdanieli       | 46.79110 | 13 |\n",
       "| Tetranychus urticae         | 35.70969 | 14 |\n",
       "\n"
      ],
      "text/plain": [
       "  latspecies                  latitude Latcurve_ID\n",
       "1 Aedes albopictus            46.07488 1          \n",
       "2 Bemisia tabaci              -6.80000 10         \n",
       "3 Tetraneura nigriabdominalis 24.15000 11         \n",
       "4 Stethorus punctillum        46.79110 12         \n",
       "5 Tetranychus mcdanieli       46.79110 13         \n",
       "6 Tetranychus urticae         35.70969 14         "
      ]
     },
     "metadata": {},
     "output_type": "display_data"
    }
   ],
   "source": [
    "# Relationship between r_m opt and latitude\n",
    "\n",
    "alphaLat <- as_tibble(read_csv('../data/TraitData.csv')) %>% \n",
    "            select(interactor1, standardisedtraitname,latitude) %>%\n",
    "            filter(standardisedtraitname == '1/alpha' & latitude != 'NA') %>%\n",
    "            rename(species = interactor1) %>%\n",
    "            distinct(species, latitude) %>%\n",
    "            mutate(Latcurve_ID = case_when(species == 'Aedes albopictus' ~ '1',\n",
    "                              species == 'Aedes aegypti' ~ '2',\n",
    "                              species == 'Anthonomus grandis' ~ '3',\n",
    "                              species == 'Paracoccus marginatus' ~ '4',\n",
    "                              species == 'Acyrthosiphon pisum' ~ '5',\n",
    "                              species == 'Aphis gossypii' ~ '6',\n",
    "                              species == 'Harmonia axyridis' ~ '7',\n",
    "                              species == 'Tribolium castaneum' ~ '8',\n",
    "                              species == 'Aedes krombeini' ~ '9',\n",
    "                              species == 'Bemisia tabaci' ~ '10',\n",
    "                              species == 'Tetraneura nigriabdominalis' ~ '11',\n",
    "                              species == 'Stethorus punctillum' ~ '12',\n",
    "                              species == 'Tetranychus mcdanieli' ~ '13',\n",
    "                              species == 'Tetranychus urticae' ~ '14',\n",
    "                              species == 'Clavigralla tomentosicollis' ~ '15',\n",
    "                              species == 'Planococcus citri' ~ '16',\n",
    "                              species == 'Muscidifurax zaraptor' ~ '17',\n",
    "                              species == 'Aphis nasturtii' ~ '18',\n",
    "                              species == 'Rhopalosiphum maidis' ~ '19',\n",
    "                              species == 'Anopheles gambiae' ~ '20',\n",
    "                              species == 'Anoplophora glabripennis' ~ '21',\n",
    "                              species == 'Amblyseius womersleyi' ~ '22',\n",
    "                              species == 'Trichogramma sp. nr. Lutea' ~ '23',\n",
    "                              species == 'Trichogramma bruni' ~ '24',\n",
    "                              species == 'Culex annulirostris' ~ '25',\n",
    "                              species == 'Macrocentrus iridescens' ~ '26',\n",
    "                              species == 'Otiorhynchus sulcatus' ~ '27',\n",
    "                              species == 'Drosophila suzukii' ~ '28',\n",
    "                              species == 'Gastrolina depressa' ~ '29',\n",
    "                              species == 'Laricobius nigrinus' ~ '30',\n",
    "                              species == 'Aubeonymus mariaefranciscae' ~ '31',\n",
    "                              species == 'Iphiseius degenerans' ~ '32',\n",
    "                              species == 'Amblyseius swirskii' ~ '33',\n",
    "                              species == 'Tetranychus evansi' ~ '36',\n",
    "                              species == 'Helicoverpa armigera' ~ '37',\n",
    "                              species == 'Antestiopsis thunbergii' ~ '38',\n",
    "                              species == 'Monochamus leuconotus' ~ '39',\n",
    "                              species == 'Kampimodromus aberrans' ~ '40',\n",
    "                              species == 'Phenacoccus solenopsis' ~ '41',\n",
    "                              species == 'Leptinotarsa decemlineata' ~ '42',\n",
    "                              species == 'Halyomorpha halys' ~ '43',\n",
    "                              species == 'Muscidifurax raptorellus' ~ '44',\n",
    "                              species == 'Thrips hawaiiensis' ~ '45')) %>%\n",
    "  arrange(Latcurve_ID) %>% rename(latspecies = species)\n",
    "            \n",
    "# alphaLat %>% print(n=60)\n",
    "\n",
    "head(alphaLat)"
   ]
  },
  {
   "cell_type": "code",
   "execution_count": 10,
   "id": "9b8b6036-c252-4b81-a588-209ea9132e0a",
   "metadata": {},
   "outputs": [
    {
     "name": "stderr",
     "output_type": "stream",
     "text": [
      "\n",
      "\u001b[36m──\u001b[39m \u001b[1m\u001b[1mColumn specification\u001b[1m\u001b[22m \u001b[36m───────────────────────────────────────────────────────────────────────────────────────────────────────────────────────\u001b[39m\n",
      "cols(\n",
      "  a_pk = \u001b[32mcol_double()\u001b[39m,\n",
      "  a_pkLwr = \u001b[32mcol_double()\u001b[39m,\n",
      "  a_pkUpr = \u001b[32mcol_double()\u001b[39m,\n",
      "  species = \u001b[31mcol_character()\u001b[39m,\n",
      "  curve_ID = \u001b[32mcol_double()\u001b[39m,\n",
      "  T_pk = \u001b[32mcol_double()\u001b[39m,\n",
      "  T_pkLwr = \u001b[32mcol_double()\u001b[39m,\n",
      "  T_pkUpr = \u001b[32mcol_double()\u001b[39m,\n",
      "  mass = \u001b[32mcol_double()\u001b[39m\n",
      ")\n",
      "\n",
      "\n"
     ]
    }
   ],
   "source": [
    "alphaMass <- as_tibble(read_csv('../data/a_pksT_pksMass.csv'))"
   ]
  },
  {
   "cell_type": "code",
   "execution_count": 11,
   "id": "a49eecd8-687b-49f8-bb88-36dacf94e8ca",
   "metadata": {},
   "outputs": [
    {
     "name": "stderr",
     "output_type": "stream",
     "text": [
      "\n",
      "\u001b[36m──\u001b[39m \u001b[1m\u001b[1mColumn specification\u001b[1m\u001b[22m \u001b[36m───────────────────────────────────────────────────────────────────────────────────────────────────────────────────────\u001b[39m\n",
      "cols(\n",
      "  a_pk = \u001b[32mcol_double()\u001b[39m,\n",
      "  a_pkLwr = \u001b[32mcol_double()\u001b[39m,\n",
      "  a_pkUpr = \u001b[32mcol_double()\u001b[39m,\n",
      "  species = \u001b[31mcol_character()\u001b[39m,\n",
      "  curve_ID = \u001b[32mcol_double()\u001b[39m,\n",
      "  T_pk = \u001b[32mcol_double()\u001b[39m,\n",
      "  T_pkLwr = \u001b[32mcol_double()\u001b[39m,\n",
      "  T_pkUpr = \u001b[32mcol_double()\u001b[39m,\n",
      "  mass = \u001b[32mcol_double()\u001b[39m\n",
      ")\n",
      "\n",
      "\n"
     ]
    },
    {
     "data": {
      "text/html": [
       "<table>\n",
       "<caption>A tibble: 6 × 9</caption>\n",
       "<thead>\n",
       "\t<tr><th scope=col>a_pk</th><th scope=col>a_pkLwr</th><th scope=col>a_pkUpr</th><th scope=col>species</th><th scope=col>curve_ID</th><th scope=col>T_pk</th><th scope=col>T_pkLwr</th><th scope=col>T_pkUpr</th><th scope=col>mass</th></tr>\n",
       "\t<tr><th scope=col>&lt;dbl&gt;</th><th scope=col>&lt;dbl&gt;</th><th scope=col>&lt;dbl&gt;</th><th scope=col>&lt;chr&gt;</th><th scope=col>&lt;chr&gt;</th><th scope=col>&lt;dbl&gt;</th><th scope=col>&lt;dbl&gt;</th><th scope=col>&lt;dbl&gt;</th><th scope=col>&lt;dbl&gt;</th></tr>\n",
       "</thead>\n",
       "<tbody>\n",
       "\t<tr><td>0.13092688</td><td>0.11460454</td><td>0.18426343</td><td>Aedes albopictus           </td><td>1 </td><td>31.160</td><td>29.38399</td><td>33.52370</td><td>2.202857</td></tr>\n",
       "\t<tr><td>0.08282502</td><td>0.07929311</td><td>0.09506491</td><td>Bemisia tabaci             </td><td>10</td><td>29.751</td><td>29.33872</td><td>30.66100</td><td>0.293125</td></tr>\n",
       "\t<tr><td>0.11794938</td><td>0.11689323</td><td>0.11881231</td><td>Tetraneura nigriabdominalis</td><td>11</td><td>30.648</td><td>30.50557</td><td>30.75143</td><td>0.867300</td></tr>\n",
       "\t<tr><td>0.15281755</td><td>0.14286845</td><td>0.16616810</td><td>Stethorus punctillum       </td><td>12</td><td>32.875</td><td>32.77005</td><td>33.01580</td><td>0.480000</td></tr>\n",
       "\t<tr><td>0.35107259</td><td>0.31695625</td><td>0.39202056</td><td>Tetranychus mcdanieli      </td><td>13</td><td>35.182</td><td>34.93494</td><td>35.79288</td><td>0.024300</td></tr>\n",
       "\t<tr><td>0.16981269</td><td>0.14186659</td><td>0.19217598</td><td>Tetranychus urticae        </td><td>14</td><td>31.467</td><td>29.40700</td><td>32.73653</td><td>0.024300</td></tr>\n",
       "</tbody>\n",
       "</table>\n"
      ],
      "text/latex": [
       "A tibble: 6 × 9\n",
       "\\begin{tabular}{lllllllll}\n",
       " a\\_pk & a\\_pkLwr & a\\_pkUpr & species & curve\\_ID & T\\_pk & T\\_pkLwr & T\\_pkUpr & mass\\\\\n",
       " <dbl> & <dbl> & <dbl> & <chr> & <chr> & <dbl> & <dbl> & <dbl> & <dbl>\\\\\n",
       "\\hline\n",
       "\t 0.13092688 & 0.11460454 & 0.18426343 & Aedes albopictus            & 1  & 31.160 & 29.38399 & 33.52370 & 2.202857\\\\\n",
       "\t 0.08282502 & 0.07929311 & 0.09506491 & Bemisia tabaci              & 10 & 29.751 & 29.33872 & 30.66100 & 0.293125\\\\\n",
       "\t 0.11794938 & 0.11689323 & 0.11881231 & Tetraneura nigriabdominalis & 11 & 30.648 & 30.50557 & 30.75143 & 0.867300\\\\\n",
       "\t 0.15281755 & 0.14286845 & 0.16616810 & Stethorus punctillum        & 12 & 32.875 & 32.77005 & 33.01580 & 0.480000\\\\\n",
       "\t 0.35107259 & 0.31695625 & 0.39202056 & Tetranychus mcdanieli       & 13 & 35.182 & 34.93494 & 35.79288 & 0.024300\\\\\n",
       "\t 0.16981269 & 0.14186659 & 0.19217598 & Tetranychus urticae         & 14 & 31.467 & 29.40700 & 32.73653 & 0.024300\\\\\n",
       "\\end{tabular}\n"
      ],
      "text/markdown": [
       "\n",
       "A tibble: 6 × 9\n",
       "\n",
       "| a_pk &lt;dbl&gt; | a_pkLwr &lt;dbl&gt; | a_pkUpr &lt;dbl&gt; | species &lt;chr&gt; | curve_ID &lt;chr&gt; | T_pk &lt;dbl&gt; | T_pkLwr &lt;dbl&gt; | T_pkUpr &lt;dbl&gt; | mass &lt;dbl&gt; |\n",
       "|---|---|---|---|---|---|---|---|---|\n",
       "| 0.13092688 | 0.11460454 | 0.18426343 | Aedes albopictus            | 1  | 31.160 | 29.38399 | 33.52370 | 2.202857 |\n",
       "| 0.08282502 | 0.07929311 | 0.09506491 | Bemisia tabaci              | 10 | 29.751 | 29.33872 | 30.66100 | 0.293125 |\n",
       "| 0.11794938 | 0.11689323 | 0.11881231 | Tetraneura nigriabdominalis | 11 | 30.648 | 30.50557 | 30.75143 | 0.867300 |\n",
       "| 0.15281755 | 0.14286845 | 0.16616810 | Stethorus punctillum        | 12 | 32.875 | 32.77005 | 33.01580 | 0.480000 |\n",
       "| 0.35107259 | 0.31695625 | 0.39202056 | Tetranychus mcdanieli       | 13 | 35.182 | 34.93494 | 35.79288 | 0.024300 |\n",
       "| 0.16981269 | 0.14186659 | 0.19217598 | Tetranychus urticae         | 14 | 31.467 | 29.40700 | 32.73653 | 0.024300 |\n",
       "\n"
      ],
      "text/plain": [
       "  a_pk       a_pkLwr    a_pkUpr    species                     curve_ID T_pk  \n",
       "1 0.13092688 0.11460454 0.18426343 Aedes albopictus            1        31.160\n",
       "2 0.08282502 0.07929311 0.09506491 Bemisia tabaci              10       29.751\n",
       "3 0.11794938 0.11689323 0.11881231 Tetraneura nigriabdominalis 11       30.648\n",
       "4 0.15281755 0.14286845 0.16616810 Stethorus punctillum        12       32.875\n",
       "5 0.35107259 0.31695625 0.39202056 Tetranychus mcdanieli       13       35.182\n",
       "6 0.16981269 0.14186659 0.19217598 Tetranychus urticae         14       31.467\n",
       "  T_pkLwr  T_pkUpr  mass    \n",
       "1 29.38399 33.52370 2.202857\n",
       "2 29.33872 30.66100 0.293125\n",
       "3 30.50557 30.75143 0.867300\n",
       "4 32.77005 33.01580 0.480000\n",
       "5 34.93494 35.79288 0.024300\n",
       "6 29.40700 32.73653 0.024300"
      ]
     },
     "metadata": {},
     "output_type": "display_data"
    }
   ],
   "source": [
    "alphaMass <- as_tibble(read_csv('../data/a_pksT_pksMass.csv')) %>% \n",
    "  # select(species, a_pk, mass) %>% \n",
    "  mutate(curve_ID = case_when(species == 'Aedes albopictus' ~ '1',\n",
    "                                 species == 'Aedes aegypti' ~ '2',\n",
    "                                 species == 'Anthonomus grandis' ~ '3',\n",
    "                                 species == 'Paracoccus marginatus' ~ '4',\n",
    "                                 species == 'Acyrthosiphon pisum' ~ '5',\n",
    "                                 species == 'Aphis gossypii' ~ '6',\n",
    "                                 species == 'Harmonia axyridis' ~ '7',\n",
    "                                 species == 'Tribolium castaneum' ~ '8',\n",
    "                                 species == 'Aedes krombeini' ~ '9',\n",
    "                                 species == 'Bemisia tabaci' ~ '10',\n",
    "                                 species == 'Tetraneura nigriabdominalis' ~ '11',\n",
    "                                 species == 'Stethorus punctillum' ~ '12',\n",
    "                                 species == 'Tetranychus mcdanieli' ~ '13',\n",
    "                                 species == 'Tetranychus urticae' ~ '14',\n",
    "                                 species == 'Clavigralla tomentosicollis' ~ '15',\n",
    "                                 species == 'Planococcus citri' ~ '16',\n",
    "                                 species == 'Muscidifurax zaraptor' ~ '17',\n",
    "                                 species == 'Aphis nasturtii' ~ '18',\n",
    "                                 species == 'Rhopalosiphum maidis' ~ '19',\n",
    "                                 species == 'Anopheles gambiae' ~ '20',\n",
    "                                 species == 'Anoplophora glabripennis' ~ '21',\n",
    "                                 species == 'Amblyseius womersleyi' ~ '22',\n",
    "                                 species == 'Trichogramma sp. nr. Lutea' ~ '23',\n",
    "                                 species == 'Trichogramma bruni' ~ '24',\n",
    "                                 species == 'Culex annulirostris' ~ '25',\n",
    "                                 species == 'Macrocentrus iridescens' ~ '26',\n",
    "                                 species == 'Otiorhynchus sulcatus' ~ '27',\n",
    "                                 species == 'Drosophila suzukii' ~ '28',\n",
    "                                 species == 'Gastrolina depressa' ~ '29',\n",
    "                                 species == 'Laricobius nigrinus' ~ '30',\n",
    "                                 species == 'Aubeonymus mariaefranciscae' ~ '31',\n",
    "                                 species == 'Iphiseius degenerans' ~ '32',\n",
    "                                 species == 'Amblyseius swirskii' ~ '33',\n",
    "                                 species == 'Tetranychus evansi' ~ '36',\n",
    "                                 species == 'Helicoverpa armigera' ~ '37',\n",
    "                                 species == 'Antestiopsis thunbergii' ~ '38',\n",
    "                                 species == 'Monochamus leuconotus' ~ '39',\n",
    "                                 species == 'Kampimodromus aberrans' ~ '40',\n",
    "                                 species == 'Phenacoccus solenopsis' ~ '41',\n",
    "                                 species == 'Leptinotarsa decemlineata' ~ '42',\n",
    "                                 species == 'Halyomorpha halys' ~ '43',\n",
    "                                 species == 'Muscidifurax raptorellus' ~ '44',\n",
    "                                 species == 'Thrips hawaiiensis' ~ '45')) %>%\n",
    "  arrange(curve_ID) %>% filter(curve_ID != 'NA')\n",
    "\n",
    "head(alphaMass)"
   ]
  },
  {
   "cell_type": "code",
   "execution_count": 24,
   "id": "17afce54-ec75-4b75-b8a9-42225306b0db",
   "metadata": {},
   "outputs": [
    {
     "data": {
      "text/html": [
       "<table>\n",
       "<caption>A tibble: 6 × 11</caption>\n",
       "<thead>\n",
       "\t<tr><th scope=col>a_pk</th><th scope=col>a_pkLwr</th><th scope=col>a_pkUpr</th><th scope=col>species</th><th scope=col>curve_ID</th><th scope=col>T_pk</th><th scope=col>T_pkLwr</th><th scope=col>T_pkUpr</th><th scope=col>mass</th><th scope=col>latitude</th><th scope=col>a_pkmassCor</th></tr>\n",
       "\t<tr><th scope=col>&lt;dbl&gt;</th><th scope=col>&lt;dbl&gt;</th><th scope=col>&lt;dbl&gt;</th><th scope=col>&lt;chr&gt;</th><th scope=col>&lt;chr&gt;</th><th scope=col>&lt;dbl&gt;</th><th scope=col>&lt;dbl&gt;</th><th scope=col>&lt;dbl&gt;</th><th scope=col>&lt;dbl&gt;</th><th scope=col>&lt;dbl&gt;</th><th scope=col>&lt;dbl&gt;</th></tr>\n",
       "</thead>\n",
       "<tbody>\n",
       "\t<tr><td>0.13092688</td><td>0.11460454</td><td>0.18426343</td><td>Aedes albopictus           </td><td>1 </td><td>31.160</td><td>29.38399</td><td>33.52370</td><td>2.202857</td><td>46.07488</td><td>0.16140619</td></tr>\n",
       "\t<tr><td>0.08282502</td><td>0.07929311</td><td>0.09506491</td><td>Bemisia tabaci             </td><td>10</td><td>29.751</td><td>29.33872</td><td>30.66100</td><td>0.293125</td><td>-6.80000</td><td>0.05983159</td></tr>\n",
       "\t<tr><td>0.11794938</td><td>0.11689323</td><td>0.11881231</td><td>Tetraneura nigriabdominalis</td><td>11</td><td>30.648</td><td>30.50557</td><td>30.75143</td><td>0.867300</td><td>24.15000</td><td>0.11358226</td></tr>\n",
       "\t<tr><td>0.15281755</td><td>0.14286845</td><td>0.16616810</td><td>Stethorus punctillum       </td><td>12</td><td>32.875</td><td>32.77005</td><td>33.01580</td><td>0.480000</td><td>46.79110</td><td>0.12580624</td></tr>\n",
       "\t<tr><td>0.35107259</td><td>0.31695625</td><td>0.39202056</td><td>Tetranychus mcdanieli      </td><td>13</td><td>35.182</td><td>34.93494</td><td>35.79288</td><td>0.024300</td><td>46.79110</td><td>0.13109393</td></tr>\n",
       "\t<tr><td>0.16981269</td><td>0.14186659</td><td>0.19217598</td><td>Tetranychus urticae        </td><td>14</td><td>31.467</td><td>29.40700</td><td>32.73653</td><td>0.024300</td><td>35.70969</td><td>0.06340972</td></tr>\n",
       "</tbody>\n",
       "</table>\n"
      ],
      "text/latex": [
       "A tibble: 6 × 11\n",
       "\\begin{tabular}{lllllllllll}\n",
       " a\\_pk & a\\_pkLwr & a\\_pkUpr & species & curve\\_ID & T\\_pk & T\\_pkLwr & T\\_pkUpr & mass & latitude & a\\_pkmassCor\\\\\n",
       " <dbl> & <dbl> & <dbl> & <chr> & <chr> & <dbl> & <dbl> & <dbl> & <dbl> & <dbl> & <dbl>\\\\\n",
       "\\hline\n",
       "\t 0.13092688 & 0.11460454 & 0.18426343 & Aedes albopictus            & 1  & 31.160 & 29.38399 & 33.52370 & 2.202857 & 46.07488 & 0.16140619\\\\\n",
       "\t 0.08282502 & 0.07929311 & 0.09506491 & Bemisia tabaci              & 10 & 29.751 & 29.33872 & 30.66100 & 0.293125 & -6.80000 & 0.05983159\\\\\n",
       "\t 0.11794938 & 0.11689323 & 0.11881231 & Tetraneura nigriabdominalis & 11 & 30.648 & 30.50557 & 30.75143 & 0.867300 & 24.15000 & 0.11358226\\\\\n",
       "\t 0.15281755 & 0.14286845 & 0.16616810 & Stethorus punctillum        & 12 & 32.875 & 32.77005 & 33.01580 & 0.480000 & 46.79110 & 0.12580624\\\\\n",
       "\t 0.35107259 & 0.31695625 & 0.39202056 & Tetranychus mcdanieli       & 13 & 35.182 & 34.93494 & 35.79288 & 0.024300 & 46.79110 & 0.13109393\\\\\n",
       "\t 0.16981269 & 0.14186659 & 0.19217598 & Tetranychus urticae         & 14 & 31.467 & 29.40700 & 32.73653 & 0.024300 & 35.70969 & 0.06340972\\\\\n",
       "\\end{tabular}\n"
      ],
      "text/markdown": [
       "\n",
       "A tibble: 6 × 11\n",
       "\n",
       "| a_pk &lt;dbl&gt; | a_pkLwr &lt;dbl&gt; | a_pkUpr &lt;dbl&gt; | species &lt;chr&gt; | curve_ID &lt;chr&gt; | T_pk &lt;dbl&gt; | T_pkLwr &lt;dbl&gt; | T_pkUpr &lt;dbl&gt; | mass &lt;dbl&gt; | latitude &lt;dbl&gt; | a_pkmassCor &lt;dbl&gt; |\n",
       "|---|---|---|---|---|---|---|---|---|---|---|\n",
       "| 0.13092688 | 0.11460454 | 0.18426343 | Aedes albopictus            | 1  | 31.160 | 29.38399 | 33.52370 | 2.202857 | 46.07488 | 0.16140619 |\n",
       "| 0.08282502 | 0.07929311 | 0.09506491 | Bemisia tabaci              | 10 | 29.751 | 29.33872 | 30.66100 | 0.293125 | -6.80000 | 0.05983159 |\n",
       "| 0.11794938 | 0.11689323 | 0.11881231 | Tetraneura nigriabdominalis | 11 | 30.648 | 30.50557 | 30.75143 | 0.867300 | 24.15000 | 0.11358226 |\n",
       "| 0.15281755 | 0.14286845 | 0.16616810 | Stethorus punctillum        | 12 | 32.875 | 32.77005 | 33.01580 | 0.480000 | 46.79110 | 0.12580624 |\n",
       "| 0.35107259 | 0.31695625 | 0.39202056 | Tetranychus mcdanieli       | 13 | 35.182 | 34.93494 | 35.79288 | 0.024300 | 46.79110 | 0.13109393 |\n",
       "| 0.16981269 | 0.14186659 | 0.19217598 | Tetranychus urticae         | 14 | 31.467 | 29.40700 | 32.73653 | 0.024300 | 35.70969 | 0.06340972 |\n",
       "\n"
      ],
      "text/plain": [
       "  a_pk       a_pkLwr    a_pkUpr    species                     curve_ID T_pk  \n",
       "1 0.13092688 0.11460454 0.18426343 Aedes albopictus            1        31.160\n",
       "2 0.08282502 0.07929311 0.09506491 Bemisia tabaci              10       29.751\n",
       "3 0.11794938 0.11689323 0.11881231 Tetraneura nigriabdominalis 11       30.648\n",
       "4 0.15281755 0.14286845 0.16616810 Stethorus punctillum        12       32.875\n",
       "5 0.35107259 0.31695625 0.39202056 Tetranychus mcdanieli       13       35.182\n",
       "6 0.16981269 0.14186659 0.19217598 Tetranychus urticae         14       31.467\n",
       "  T_pkLwr  T_pkUpr  mass     latitude a_pkmassCor\n",
       "1 29.38399 33.52370 2.202857 46.07488 0.16140619 \n",
       "2 29.33872 30.66100 0.293125 -6.80000 0.05983159 \n",
       "3 30.50557 30.75143 0.867300 24.15000 0.11358226 \n",
       "4 32.77005 33.01580 0.480000 46.79110 0.12580624 \n",
       "5 34.93494 35.79288 0.024300 46.79110 0.13109393 \n",
       "6 29.40700 32.73653 0.024300 35.70969 0.06340972 "
      ]
     },
     "metadata": {},
     "output_type": "display_data"
    }
   ],
   "source": [
    "alphaLat_data <- bind_cols(alphaMass,alphaLat) %>% \n",
    "                 select(-latspecies, -Latcurve_ID) %>% \n",
    "                 mutate(a_pkmassCor = a_pk/mass^-0.265)\n",
    "\n",
    "head(alphaLat_data)"
   ]
  },
  {
   "cell_type": "code",
   "execution_count": 36,
   "id": "ca886bf6-9c6b-4957-9e01-159d41e1c228",
   "metadata": {},
   "outputs": [
    {
     "name": "stderr",
     "output_type": "stream",
     "text": [
      "`geom_smooth()` using formula 'y ~ x'\n",
      "\n",
      "`geom_smooth()` using formula 'y ~ x'\n",
      "\n"
     ]
    },
    {
     "data": {
      "text/plain": [
       "\n",
       "Call:\n",
       "lm(formula = log(a_pkmassCor) ~ latitude, data = alphaLat_data)\n",
       "\n",
       "Residuals:\n",
       "     Min       1Q   Median       3Q      Max \n",
       "-1.99079 -0.40298  0.06589  0.55769  1.17999 \n",
       "\n",
       "Coefficients:\n",
       "             Estimate Std. Error t value Pr(>|t|)    \n",
       "(Intercept) -2.098174   0.193302 -10.854 1.25e-13 ***\n",
       "latitude    -0.005919   0.005545  -1.067    0.292    \n",
       "---\n",
       "Signif. codes:  0 ‘***’ 0.001 ‘**’ 0.01 ‘*’ 0.05 ‘.’ 0.1 ‘ ’ 1\n",
       "\n",
       "Residual standard error: 0.7666 on 41 degrees of freedom\n",
       "Multiple R-squared:  0.02704,\tAdjusted R-squared:  0.00331 \n",
       "F-statistic: 1.139 on 1 and 41 DF,  p-value: 0.292\n"
      ]
     },
     "metadata": {},
     "output_type": "display_data"
    },
    {
     "data": {
      "text/html": [
       "<table>\n",
       "<caption>A anova: 2 × 5</caption>\n",
       "<thead>\n",
       "\t<tr><th></th><th scope=col>Df</th><th scope=col>Sum Sq</th><th scope=col>Mean Sq</th><th scope=col>F value</th><th scope=col>Pr(&gt;F)</th></tr>\n",
       "\t<tr><th></th><th scope=col>&lt;int&gt;</th><th scope=col>&lt;dbl&gt;</th><th scope=col>&lt;dbl&gt;</th><th scope=col>&lt;dbl&gt;</th><th scope=col>&lt;dbl&gt;</th></tr>\n",
       "</thead>\n",
       "<tbody>\n",
       "\t<tr><th scope=row>latitude</th><td> 1</td><td> 0.6696907</td><td>0.6696907</td><td>1.139493</td><td>0.2920048</td></tr>\n",
       "\t<tr><th scope=row>Residuals</th><td>41</td><td>24.0960828</td><td>0.5877093</td><td>      NA</td><td>       NA</td></tr>\n",
       "</tbody>\n",
       "</table>\n"
      ],
      "text/latex": [
       "A anova: 2 × 5\n",
       "\\begin{tabular}{r|lllll}\n",
       "  & Df & Sum Sq & Mean Sq & F value & Pr(>F)\\\\\n",
       "  & <int> & <dbl> & <dbl> & <dbl> & <dbl>\\\\\n",
       "\\hline\n",
       "\tlatitude &  1 &  0.6696907 & 0.6696907 & 1.139493 & 0.2920048\\\\\n",
       "\tResiduals & 41 & 24.0960828 & 0.5877093 &       NA &        NA\\\\\n",
       "\\end{tabular}\n"
      ],
      "text/markdown": [
       "\n",
       "A anova: 2 × 5\n",
       "\n",
       "| <!--/--> | Df &lt;int&gt; | Sum Sq &lt;dbl&gt; | Mean Sq &lt;dbl&gt; | F value &lt;dbl&gt; | Pr(&gt;F) &lt;dbl&gt; |\n",
       "|---|---|---|---|---|---|\n",
       "| latitude |  1 |  0.6696907 | 0.6696907 | 1.139493 | 0.2920048 |\n",
       "| Residuals | 41 | 24.0960828 | 0.5877093 |       NA |        NA |\n",
       "\n"
      ],
      "text/plain": [
       "          Df Sum Sq     Mean Sq   F value  Pr(>F)   \n",
       "latitude   1  0.6696907 0.6696907 1.139493 0.2920048\n",
       "Residuals 41 24.0960828 0.5877093       NA        NA"
      ]
     },
     "metadata": {},
     "output_type": "display_data"
    },
    {
     "data": {
      "image/png": "[encoded data removed]",
      "text/plain": [
       "plot without title"
      ]
     },
     "metadata": {
      "image/png": {
       "height": 420,
       "width": 420
      }
     },
     "output_type": "display_data"
    }
   ],
   "source": [
    "a_pklat_plot <-\n",
    "  alphaLat_data %>%\n",
    "  ggplot(aes(x= abs(latitude), y = log(a_pkmassCor)))+\n",
    "  geom_smooth(method = 'lm', colour = '#636363', size=0.3, fill=\"#004225\")+\n",
    "  scale_y_continuous(expression(plain(paste(\"ln(\", italic(1/alpha[pk])~\")/\",\n",
    "                                            italic(M^-0.265),\")\"))),\n",
    "                     limits=c(-4.5,-0.8),\n",
    "                     expand = c(0.01, 0),\n",
    "                     breaks=seq(-4,-1, by=1))+\n",
    "  scale_x_continuous(expression(plain(paste(\"Absolute latitude\"))))+\n",
    "  geom_point(size = 1,stroke=0.2, col = '#000000', shape=24, fill ='#e66101')+\n",
    "  theme_bw()+\n",
    "  theme(text=element_text(family=\"Times\"))+\n",
    "  theme(text = element_text(size=6),\n",
    "        legend.position = 'none',\n",
    "        legend.text = element_text(size = 4.5, face = 'italic'),\n",
    "        legend.background = element_rect(colour = \"white\", size = 0.125), \n",
    "        legend.margin=margin(t = 0.01, b = 0.1, r=0.1,l=0.1, unit='cm'),\n",
    "        legend.key.size = unit(0.3, 'cm'), \n",
    "        panel.grid.major = element_blank(),\n",
    "        panel.grid.minor = element_blank())\n",
    "\n",
    "a_pklat_plot\n",
    "\n",
    "save_plot(a_pklat_plot, file=\"../results/alphaLat.pdf\", \n",
    "         base_height=3,base_width = 4, base_asp = 0.75,units=\"cm\")\n",
    "\n",
    "a_pklatmodel <- lm(log(a_pkmassCor) ~ latitude, data = alphaLat_data)\n",
    "summary(a_pklatmodel)\n",
    "anova(a_pklatmodel)"
   ]
  },
  {
   "cell_type": "code",
   "execution_count": 29,
   "id": "b7a7aae8-2fd2-4ee0-8cd2-3069037523cb",
   "metadata": {},
   "outputs": [
    {
     "name": "stderr",
     "output_type": "stream",
     "text": [
      "`geom_smooth()` using formula 'y ~ x'\n",
      "\n"
     ]
    },
    {
     "data": {
      "image/png": "[encoded data removed]",
      "text/plain": [
       "plot without title"
      ]
     },
     "metadata": {
      "image/png": {
       "height": 420,
       "width": 420
      }
     },
     "output_type": "display_data"
    }
   ],
   "source": [
    "a_T_pklat_plot <-\n",
    "  alphaLat_data %>%\n",
    "  ggplot(aes(x= abs(latitude), y = T_pk))+\n",
    "  geom_smooth(method = 'lm', colour = '#636363', size=0.3, fill=\"#004225\")+\n",
    "  # scale_y_continuous(expression(plain(paste(\"ln(\", italic(1/alpha[pk])~\")/\",\n",
    "  #                                           italic(M^-0.265),\")\"))),\n",
    "  #                    limits=c(-4.5,-0.8),\n",
    "  #                    expand = c(0.01, 0),\n",
    "  #                    breaks=seq(-4,-1, by=1))+\n",
    "  scale_x_continuous(expression(plain(paste(\"Absolute latitude\"))))+\n",
    "  geom_point(size = 1,stroke=0.2, col = '#000000', shape=24, fill ='#e66101')+\n",
    "  theme_bw()+\n",
    "  theme(text=element_text(family=\"Times\"))+\n",
    "  theme(text = element_text(size=6),\n",
    "        legend.position = 'none',\n",
    "        legend.text = element_text(size = 4.5, face = 'italic'),\n",
    "        legend.background = element_rect(colour = \"white\", size = 0.125), \n",
    "        legend.margin=margin(t = 0.01, b = 0.1, r=0.1,l=0.1, unit='cm'),\n",
    "        legend.key.size = unit(0.3, 'cm'), \n",
    "        panel.grid.major = element_blank(),\n",
    "        panel.grid.minor = element_blank())\n",
    "\n",
    "a_T_pklat_plot\n",
    "\n",
    "save_plot(a_T_pklat_plot, file=\"../results/alpha_Tpk_Lat.pdf\", \n",
    "         base_height=3,base_width = 4, base_asp = 0.75,units=\"cm\")\n",
    "\n",
    "\n",
    "a_T_pklatmodel <- lm( T_pk ~ latitude, data = alphaLat_data)\n",
    "summary(a_T_pklatmodel)\n",
    "anova(a_T_pklatmodel)"
   ]
  }
 ],
 "metadata": {
  "kernelspec": {
   "display_name": "R",
   "language": "R",
   "name": "ir"
  },
  "language_info": {
   "codemirror_mode": "r",
   "file_extension": ".r",
   "mimetype": "text/x-r-source",
   "name": "R",
   "pygments_lexer": "r",
   "version": "4.2.0"
  }
 },
 "nbformat": 4,
 "nbformat_minor": 5
}
