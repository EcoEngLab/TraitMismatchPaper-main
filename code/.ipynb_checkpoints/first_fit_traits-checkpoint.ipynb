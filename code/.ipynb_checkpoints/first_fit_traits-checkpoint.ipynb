{
 "cells": [
  {
   "cell_type": "code",
   "execution_count": 1,
   "metadata": {
    "scrolled": true
   },
   "outputs": [
    {
     "name": "stderr",
     "output_type": "stream",
     "text": [
      "Loading required package: ggplot2\n",
      "\n",
      "Loading required package: nls.multstart\n",
      "\n",
      "Loading required package: broom\n",
      "\n",
      "Loading required package: tidyverse\n",
      "\n",
      "Warning message in library(package, lib.loc = lib.loc, character.only = TRUE, logical.return = TRUE, :\n",
      "“there is no package called ‘tidyverse’”\n",
      "Loading required package: rTPC\n",
      "\n",
      "Loading required package: dplyr\n",
      "\n",
      "\n",
      "Attaching package: ‘dplyr’\n",
      "\n",
      "\n",
      "The following objects are masked from ‘package:stats’:\n",
      "\n",
      "    filter, lag\n",
      "\n",
      "\n",
      "The following objects are masked from ‘package:base’:\n",
      "\n",
      "    intersect, setdiff, setequal, union\n",
      "\n",
      "\n"
     ]
    }
   ],
   "source": [
    "require('ggplot2')\n",
    "require('nls.multstart')\n",
    "require('broom')\n",
    "require('tidyverse')\n",
    "require('rTPC')\n",
    "require('dplyr')\n",
    "\n",
    "#git is not easy\n",
    "\n",
    "rm(list=ls())\n",
    "graphics.off()"
   ]
  },
  {
   "cell_type": "code",
   "execution_count": 2,
   "metadata": {
    "scrolled": true
   },
   "outputs": [
    {
     "data": {
      "text/html": [
       "<style>\n",
       ".list-inline {list-style: none; margin:0; padding: 0}\n",
       ".list-inline>li {display: inline-block}\n",
       ".list-inline>li:not(:last-child)::after {content: \"\\00b7\"; padding: 0 .5ex}\n",
       "</style>\n",
       "<ol class=list-inline><li>'beta_2012'</li><li>'boatman_2017'</li><li>'briere2_1999'</li><li>'delong_2017'</li><li>'flinn_1991'</li><li>'gaussian_1987'</li><li>'hinshelwood_1947'</li><li>'joehnk_2008'</li><li>'johnsonlewin_1946'</li><li>'kamykowski_1985'</li><li>'lactin2_1995'</li><li>'modifiedgaussian_2006'</li><li>'oneill_1972'</li><li>'pawar_2018'</li><li>'quadratic_2008'</li><li>'ratkowsky_1983'</li><li>'rezende_2019'</li><li>'sharpeschoolfull_1981'</li><li>'sharpeschoolhigh_1981'</li><li>'sharpeschoollow_1981'</li><li>'spain_1982'</li><li>'thomas_2012'</li><li>'thomas_2017'</li><li>'weibull_1995'</li></ol>\n"
      ],
      "text/latex": [
       "\\begin{enumerate*}\n",
       "\\item 'beta\\_2012'\n",
       "\\item 'boatman\\_2017'\n",
       "\\item 'briere2\\_1999'\n",
       "\\item 'delong\\_2017'\n",
       "\\item 'flinn\\_1991'\n",
       "\\item 'gaussian\\_1987'\n",
       "\\item 'hinshelwood\\_1947'\n",
       "\\item 'joehnk\\_2008'\n",
       "\\item 'johnsonlewin\\_1946'\n",
       "\\item 'kamykowski\\_1985'\n",
       "\\item 'lactin2\\_1995'\n",
       "\\item 'modifiedgaussian\\_2006'\n",
       "\\item 'oneill\\_1972'\n",
       "\\item 'pawar\\_2018'\n",
       "\\item 'quadratic\\_2008'\n",
       "\\item 'ratkowsky\\_1983'\n",
       "\\item 'rezende\\_2019'\n",
       "\\item 'sharpeschoolfull\\_1981'\n",
       "\\item 'sharpeschoolhigh\\_1981'\n",
       "\\item 'sharpeschoollow\\_1981'\n",
       "\\item 'spain\\_1982'\n",
       "\\item 'thomas\\_2012'\n",
       "\\item 'thomas\\_2017'\n",
       "\\item 'weibull\\_1995'\n",
       "\\end{enumerate*}\n"
      ],
      "text/markdown": [
       "1. 'beta_2012'\n",
       "2. 'boatman_2017'\n",
       "3. 'briere2_1999'\n",
       "4. 'delong_2017'\n",
       "5. 'flinn_1991'\n",
       "6. 'gaussian_1987'\n",
       "7. 'hinshelwood_1947'\n",
       "8. 'joehnk_2008'\n",
       "9. 'johnsonlewin_1946'\n",
       "10. 'kamykowski_1985'\n",
       "11. 'lactin2_1995'\n",
       "12. 'modifiedgaussian_2006'\n",
       "13. 'oneill_1972'\n",
       "14. 'pawar_2018'\n",
       "15. 'quadratic_2008'\n",
       "16. 'ratkowsky_1983'\n",
       "17. 'rezende_2019'\n",
       "18. 'sharpeschoolfull_1981'\n",
       "19. 'sharpeschoolhigh_1981'\n",
       "20. 'sharpeschoollow_1981'\n",
       "21. 'spain_1982'\n",
       "22. 'thomas_2012'\n",
       "23. 'thomas_2017'\n",
       "24. 'weibull_1995'\n",
       "\n",
       "\n"
      ],
      "text/plain": [
       " [1] \"beta_2012\"             \"boatman_2017\"          \"briere2_1999\"         \n",
       " [4] \"delong_2017\"           \"flinn_1991\"            \"gaussian_1987\"        \n",
       " [7] \"hinshelwood_1947\"      \"joehnk_2008\"           \"johnsonlewin_1946\"    \n",
       "[10] \"kamykowski_1985\"       \"lactin2_1995\"          \"modifiedgaussian_2006\"\n",
       "[13] \"oneill_1972\"           \"pawar_2018\"            \"quadratic_2008\"       \n",
       "[16] \"ratkowsky_1983\"        \"rezende_2019\"          \"sharpeschoolfull_1981\"\n",
       "[19] \"sharpeschoolhigh_1981\" \"sharpeschoollow_1981\"  \"spain_1982\"           \n",
       "[22] \"thomas_2012\"           \"thomas_2017\"           \"weibull_1995\"         "
      ]
     },
     "metadata": {},
     "output_type": "display_data"
    }
   ],
   "source": [
    "#take a look at the different models available\n",
    "get_model_names()"
   ]
  },
  {
   "cell_type": "code",
   "execution_count": 3,
   "metadata": {},
   "outputs": [],
   "source": [
    "#read in the trait data\n",
    "final_trait_data <- read.csv('../data/Final_Traitofinterest.csv')"
   ]
  },
  {
   "cell_type": "code",
   "execution_count": 4,
   "metadata": {},
   "outputs": [],
   "source": [
    "#remove completely irrelevant columns\n",
    "df <- final_trait_data[,colSums(is.na(final_trait_data))<nrow(final_trait_data)]\n",
    "\n",
    "#filter to single species and trait\n",
    "df2 <- dplyr::filter(df, interactor1 == 'Aedes albopictus'& originaltraitname == 'Development Rate')"
   ]
  },
  {
   "cell_type": "code",
   "execution_count": 5,
   "metadata": {},
   "outputs": [
    {
     "data": {
      "image/png": "[encoded data removed]",
      "text/plain": [
       "plot without title"
      ]
     },
     "metadata": {
      "image/png": {
       "height": 420,
       "width": 420
      }
     },
     "output_type": "display_data"
    }
   ],
   "source": [
    "#visualize\n",
    "ggplot(df2, aes(ambienttemp, originaltraitvalue))+\n",
    "  geom_point()+\n",
    "  theme_bw(base_size = 12) +\n",
    "  labs(x = 'Temperature (ºC)',\n",
    "       y = 'Development Rate',\n",
    "       title = 'Development Rate across temperatures for Aedes albopictus')"
   ]
  },
  {
   "cell_type": "code",
   "execution_count": 6,
   "metadata": {},
   "outputs": [],
   "source": [
    "# choose model\n",
    "mod = 'sharpschoolhigh_1981'\n",
    "\n",
    "# get start vals\n",
    "start_vals <- get_start_vals(df2$ambienttemp, df2$originaltraitvalue, model_name = 'sharpeschoolhigh_1981')"
   ]
  },
  {
   "cell_type": "code",
   "execution_count": 7,
   "metadata": {},
   "outputs": [],
   "source": [
    "# get limits\n",
    "low_lims <- get_lower_lims(df2$ambienttemp, df2$originaltraitvalue, model_name = 'sharpeschoolhigh_1981')\n",
    "upper_lims <- get_upper_lims(df2$ambienttemp, df2$originaltraitvalue, model_name = 'sharpeschoolhigh_1981')"
   ]
  },
  {
   "cell_type": "code",
   "execution_count": 8,
   "metadata": {},
   "outputs": [
    {
     "data": {
      "text/html": [
       "<style>\n",
       ".dl-inline {width: auto; margin:0; padding: 0}\n",
       ".dl-inline>dt, .dl-inline>dd {float: none; width: auto; display: inline-block}\n",
       ".dl-inline>dt::after {content: \":\\0020\"; padding-right: .5ex}\n",
       ".dl-inline>dt:not(:first-of-type) {padding-left: .5ex}\n",
       "</style><dl class=dl-inline><dt>r_tref</dt><dd>0.069058275</dd><dt>e</dt><dd>0.60095423265317</dd><dt>eh</dt><dd>0.312443050474999</dd><dt>th</dt><dd>30.8333333333333</dd></dl>\n"
      ],
      "text/latex": [
       "\\begin{description*}\n",
       "\\item[r\\textbackslash{}\\_tref] 0.069058275\n",
       "\\item[e] 0.60095423265317\n",
       "\\item[eh] 0.312443050474999\n",
       "\\item[th] 30.8333333333333\n",
       "\\end{description*}\n"
      ],
      "text/markdown": [
       "r_tref\n",
       ":   0.069058275e\n",
       ":   0.60095423265317eh\n",
       ":   0.312443050474999th\n",
       ":   30.8333333333333\n",
       "\n"
      ],
      "text/plain": [
       "     r_tref           e          eh          th \n",
       " 0.06905828  0.60095423  0.31244305 30.83333333 "
      ]
     },
     "metadata": {},
     "output_type": "display_data"
    }
   ],
   "source": [
    "start_vals"
   ]
  },
  {
   "cell_type": "code",
   "execution_count": 9,
   "metadata": {},
   "outputs": [
    {
     "data": {
      "text/html": [
       "<style>\n",
       ".dl-inline {width: auto; margin:0; padding: 0}\n",
       ".dl-inline>dt, .dl-inline>dd {float: none; width: auto; display: inline-block}\n",
       ".dl-inline>dt::after {content: \":\\0020\"; padding-right: .5ex}\n",
       ".dl-inline>dt:not(:first-of-type) {padding-left: .5ex}\n",
       "</style><dl class=dl-inline><dt>r_tref</dt><dd>0</dd><dt>e</dt><dd>0</dd><dt>eh</dt><dd>0</dd><dt>th</dt><dd>1</dd></dl>\n"
      ],
      "text/latex": [
       "\\begin{description*}\n",
       "\\item[r\\textbackslash{}\\_tref] 0\n",
       "\\item[e] 0\n",
       "\\item[eh] 0\n",
       "\\item[th] 1\n",
       "\\end{description*}\n"
      ],
      "text/markdown": [
       "r_tref\n",
       ":   0e\n",
       ":   0eh\n",
       ":   0th\n",
       ":   1\n",
       "\n"
      ],
      "text/plain": [
       "r_tref      e     eh     th \n",
       "     0      0      0      1 "
      ]
     },
     "metadata": {},
     "output_type": "display_data"
    }
   ],
   "source": [
    "low_lims"
   ]
  },
  {
   "cell_type": "code",
   "execution_count": 10,
   "metadata": {},
   "outputs": [
    {
     "data": {
      "text/html": [
       "<style>\n",
       ".dl-inline {width: auto; margin:0; padding: 0}\n",
       ".dl-inline>dt, .dl-inline>dd {float: none; width: auto; display: inline-block}\n",
       ".dl-inline>dt::after {content: \":\\0020\"; padding-right: .5ex}\n",
       ".dl-inline>dt:not(:first-of-type) {padding-left: .5ex}\n",
       "</style><dl class=dl-inline><dt>r_tref</dt><dd>0.16602002</dd><dt>e</dt><dd>10</dd><dt>eh</dt><dd>20</dd><dt>th</dt><dd>35</dd></dl>\n"
      ],
      "text/latex": [
       "\\begin{description*}\n",
       "\\item[r\\textbackslash{}\\_tref] 0.16602002\n",
       "\\item[e] 10\n",
       "\\item[eh] 20\n",
       "\\item[th] 35\n",
       "\\end{description*}\n"
      ],
      "text/markdown": [
       "r_tref\n",
       ":   0.16602002e\n",
       ":   10eh\n",
       ":   20th\n",
       ":   35\n",
       "\n"
      ],
      "text/plain": [
       "  r_tref        e       eh       th \n",
       " 0.16602 10.00000 20.00000 35.00000 "
      ]
     },
     "metadata": {},
     "output_type": "display_data"
    }
   ],
   "source": [
    "upper_lims"
   ]
  },
  {
   "cell_type": "code",
   "execution_count": 11,
   "metadata": {},
   "outputs": [
    {
     "data": {
      "text/plain": [
       "Nonlinear regression model\n",
       "  model: originaltraitvalue ~ sharpeschoolhigh_1981(temp = ambienttemp,     r_tref, e, eh, th, tref = 15)\n",
       "   data: data\n",
       "  r_tref        e       eh       th \n",
       " 0.03531  1.44272  1.74738 22.48851 \n",
       " residual sum-of-squares: 0.02037\n",
       "\n",
       "Number of iterations to convergence: 33 \n",
       "Achieved convergence tolerance: 1.49e-08"
      ]
     },
     "metadata": {},
     "output_type": "display_data"
    }
   ],
   "source": [
    "# fit model\n",
    "fit <- nls_multstart(originaltraitvalue~sharpeschoolhigh_1981(temp = ambienttemp, r_tref,e,eh,th, tref = 15),\n",
    "                     data = df2,\n",
    "                     iter = 500,\n",
    "                     start_lower = start_vals - 10,\n",
    "                     start_upper = start_vals + 10,\n",
    "                     lower = low_lims,\n",
    "                     upper = upper_lims,\n",
    "                     supp_errors = 'Y')\n",
    "fit"
   ]
  },
  {
   "cell_type": "code",
   "execution_count": 12,
   "metadata": {},
   "outputs": [
    {
     "data": {
      "text/html": [
       "<table class=\"dataframe\">\n",
       "<caption>A data.frame: 1 × 11</caption>\n",
       "<thead>\n",
       "\t<tr><th scope=col>rmax</th><th scope=col>topt</th><th scope=col>ctmin</th><th scope=col>ctmax</th><th scope=col>e</th><th scope=col>eh</th><th scope=col>q10</th><th scope=col>thermal_safety_margin</th><th scope=col>thermal_tolerance</th><th scope=col>breadth</th><th scope=col>skewness</th></tr>\n",
       "\t<tr><th scope=col>&lt;dbl&gt;</th><th scope=col>&lt;dbl&gt;</th><th scope=col>&lt;dbl&gt;</th><th scope=col>&lt;dbl&gt;</th><th scope=col>&lt;dbl&gt;</th><th scope=col>&lt;dbl&gt;</th><th scope=col>&lt;dbl&gt;</th><th scope=col>&lt;dbl&gt;</th><th scope=col>&lt;dbl&gt;</th><th scope=col>&lt;dbl&gt;</th><th scope=col>&lt;dbl&gt;</th></tr>\n",
       "</thead>\n",
       "<tbody>\n",
       "\t<tr><td>0.1</td><td>29.35</td><td>5.54</td><td>Inf</td><td>0.65</td><td>0.39</td><td>2.4</td><td>Inf</td><td>Inf</td><td>12.42</td><td>0.26</td></tr>\n",
       "</tbody>\n",
       "</table>\n"
      ],
      "text/latex": [
       "A data.frame: 1 × 11\n",
       "\\begin{tabular}{lllllllllll}\n",
       " rmax & topt & ctmin & ctmax & e & eh & q10 & thermal\\_safety\\_margin & thermal\\_tolerance & breadth & skewness\\\\\n",
       " <dbl> & <dbl> & <dbl> & <dbl> & <dbl> & <dbl> & <dbl> & <dbl> & <dbl> & <dbl> & <dbl>\\\\\n",
       "\\hline\n",
       "\t 0.1 & 29.35 & 5.54 & Inf & 0.65 & 0.39 & 2.4 & Inf & Inf & 12.42 & 0.26\\\\\n",
       "\\end{tabular}\n"
      ],
      "text/markdown": [
       "\n",
       "A data.frame: 1 × 11\n",
       "\n",
       "| rmax &lt;dbl&gt; | topt &lt;dbl&gt; | ctmin &lt;dbl&gt; | ctmax &lt;dbl&gt; | e &lt;dbl&gt; | eh &lt;dbl&gt; | q10 &lt;dbl&gt; | thermal_safety_margin &lt;dbl&gt; | thermal_tolerance &lt;dbl&gt; | breadth &lt;dbl&gt; | skewness &lt;dbl&gt; |\n",
       "|---|---|---|---|---|---|---|---|---|---|---|\n",
       "| 0.1 | 29.35 | 5.54 | Inf | 0.65 | 0.39 | 2.4 | Inf | Inf | 12.42 | 0.26 |\n",
       "\n"
      ],
      "text/plain": [
       "  rmax topt  ctmin ctmax e    eh   q10 thermal_safety_margin thermal_tolerance\n",
       "1 0.1  29.35 5.54  Inf   0.65 0.39 2.4 Inf                   Inf              \n",
       "  breadth skewness\n",
       "1 12.42   0.26    "
      ]
     },
     "metadata": {},
     "output_type": "display_data"
    }
   ],
   "source": [
    "# calculate additional traits\n",
    "calc_params(fit) %>%\n",
    "  # round for easy viewing\n",
    "  mutate_all(round, 2)"
   ]
  },
  {
   "cell_type": "code",
   "execution_count": 13,
   "metadata": {},
   "outputs": [],
   "source": [
    "# predict new data\n",
    "new_data <- data.frame(ambienttemp = seq(min(df2$ambienttemp), max(df2$ambienttemp), 0.5))\n",
    "preds <- augment(fit, newdata = new_data)"
   ]
  },
  {
   "cell_type": "code",
   "execution_count": 14,
   "metadata": {},
   "outputs": [
    {
     "data": {
      "image/png": "[encoded data removed]",
      "text/plain": [
       "plot without title"
      ]
     },
     "metadata": {
      "image/png": {
       "height": 420,
       "width": 420
      }
     },
     "output_type": "display_data"
    }
   ],
   "source": [
    "#visualize with new line\n",
    "ggplot(df2, aes(ambienttemp, originaltraitvalue))+\n",
    "  geom_point()+\n",
    "  geom_line(aes(ambienttemp, .fitted), preds, col = 'blue') +\n",
    "  theme_bw(base_size = 12) +\n",
    "  labs(x = 'Temperature (ºC)',\n",
    "       y = 'Development Rate',\n",
    "       title = 'Development Rate across temperatures for Aedes albopictus')"
   ]
  },
  {
   "cell_type": "code",
   "execution_count": null,
   "metadata": {},
   "outputs": [],
   "source": []
  }
 ],
 "metadata": {
  "kernelspec": {
   "display_name": "R",
   "language": "R",
   "name": "ir"
  },
  "language_info": {
   "codemirror_mode": "r",
   "file_extension": ".r",
   "mimetype": "text/x-r-source",
   "name": "R",
   "pygments_lexer": "r",
   "version": "3.6.3"
  }
 },
 "nbformat": 4,
 "nbformat_minor": 4
}
