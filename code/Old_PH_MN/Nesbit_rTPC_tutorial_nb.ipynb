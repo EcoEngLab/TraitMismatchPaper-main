{
 "cells": [
  {
   "cell_type": "markdown",
   "metadata": {},
   "source": [
    "# Model Fitting using rTPC"
   ]
  },
  {
   "cell_type": "markdown",
   "metadata": {},
   "source": [
    "With bootstrapping bitches"
   ]
  },
  {
   "cell_type": "code",
   "execution_count": null,
   "metadata": {},
   "outputs": [],
   "source": []
  },
  {
   "cell_type": "code",
   "execution_count": 1,
   "metadata": {},
   "outputs": [
    {
     "name": "stderr",
     "output_type": "stream",
     "text": [
      "Loading required package: ggplot2\n",
      "\n",
      "Loading required package: nls.multstart\n",
      "\n",
      "Loading required package: broom\n",
      "\n",
      "Loading required package: rTPC\n",
      "\n",
      "Loading required package: dplyr\n",
      "\n",
      "\n",
      "Attaching package: ‘dplyr’\n",
      "\n",
      "\n",
      "The following objects are masked from ‘package:stats’:\n",
      "\n",
      "    filter, lag\n",
      "\n",
      "\n",
      "The following objects are masked from ‘package:base’:\n",
      "\n",
      "    intersect, setdiff, setequal, union\n",
      "\n",
      "\n",
      "Loading required package: data.table\n",
      "\n",
      "\n",
      "Attaching package: ‘data.table’\n",
      "\n",
      "\n",
      "The following objects are masked from ‘package:dplyr’:\n",
      "\n",
      "    between, first, last\n",
      "\n",
      "\n"
     ]
    }
   ],
   "source": [
    "require('ggplot2')\n",
    "require('nls.multstart')\n",
    "require('broom')\n",
    "require('rTPC')\n",
    "require('dplyr')\n",
    "require('data.table')\n",
    "\n",
    "rm(list=ls())\n",
    "graphics.off()\n",
    "setwd(\"/home/primuser/Documents/VByte/VecMismatchPaper1/code/\")"
   ]
  },
  {
   "cell_type": "code",
   "execution_count": 2,
   "metadata": {},
   "outputs": [
    {
     "data": {
      "text/html": [
       "<style>\n",
       ".list-inline {list-style: none; margin:0; padding: 0}\n",
       ".list-inline>li {display: inline-block}\n",
       ".list-inline>li:not(:last-child)::after {content: \"\\00b7\"; padding: 0 .5ex}\n",
       "</style>\n",
       "<ol class=list-inline><li>'beta_2012'</li><li>'boatman_2017'</li><li>'briere2_1999'</li><li>'delong_2017'</li><li>'flinn_1991'</li><li>'gaussian_1987'</li><li>'hinshelwood_1947'</li><li>'joehnk_2008'</li><li>'johnsonlewin_1946'</li><li>'kamykowski_1985'</li><li>'lactin2_1995'</li><li>'modifiedgaussian_2006'</li><li>'oneill_1972'</li><li>'pawar_2018'</li><li>'quadratic_2008'</li><li>'ratkowsky_1983'</li><li>'rezende_2019'</li><li>'sharpeschoolfull_1981'</li><li>'sharpeschoolhigh_1981'</li><li>'sharpeschoollow_1981'</li><li>'spain_1982'</li><li>'thomas_2012'</li><li>'thomas_2017'</li><li>'weibull_1995'</li></ol>\n"
      ],
      "text/latex": [
       "\\begin{enumerate*}\n",
       "\\item 'beta\\_2012'\n",
       "\\item 'boatman\\_2017'\n",
       "\\item 'briere2\\_1999'\n",
       "\\item 'delong\\_2017'\n",
       "\\item 'flinn\\_1991'\n",
       "\\item 'gaussian\\_1987'\n",
       "\\item 'hinshelwood\\_1947'\n",
       "\\item 'joehnk\\_2008'\n",
       "\\item 'johnsonlewin\\_1946'\n",
       "\\item 'kamykowski\\_1985'\n",
       "\\item 'lactin2\\_1995'\n",
       "\\item 'modifiedgaussian\\_2006'\n",
       "\\item 'oneill\\_1972'\n",
       "\\item 'pawar\\_2018'\n",
       "\\item 'quadratic\\_2008'\n",
       "\\item 'ratkowsky\\_1983'\n",
       "\\item 'rezende\\_2019'\n",
       "\\item 'sharpeschoolfull\\_1981'\n",
       "\\item 'sharpeschoolhigh\\_1981'\n",
       "\\item 'sharpeschoollow\\_1981'\n",
       "\\item 'spain\\_1982'\n",
       "\\item 'thomas\\_2012'\n",
       "\\item 'thomas\\_2017'\n",
       "\\item 'weibull\\_1995'\n",
       "\\end{enumerate*}\n"
      ],
      "text/markdown": [
       "1. 'beta_2012'\n",
       "2. 'boatman_2017'\n",
       "3. 'briere2_1999'\n",
       "4. 'delong_2017'\n",
       "5. 'flinn_1991'\n",
       "6. 'gaussian_1987'\n",
       "7. 'hinshelwood_1947'\n",
       "8. 'joehnk_2008'\n",
       "9. 'johnsonlewin_1946'\n",
       "10. 'kamykowski_1985'\n",
       "11. 'lactin2_1995'\n",
       "12. 'modifiedgaussian_2006'\n",
       "13. 'oneill_1972'\n",
       "14. 'pawar_2018'\n",
       "15. 'quadratic_2008'\n",
       "16. 'ratkowsky_1983'\n",
       "17. 'rezende_2019'\n",
       "18. 'sharpeschoolfull_1981'\n",
       "19. 'sharpeschoolhigh_1981'\n",
       "20. 'sharpeschoollow_1981'\n",
       "21. 'spain_1982'\n",
       "22. 'thomas_2012'\n",
       "23. 'thomas_2017'\n",
       "24. 'weibull_1995'\n",
       "\n",
       "\n"
      ],
      "text/plain": [
       " [1] \"beta_2012\"             \"boatman_2017\"          \"briere2_1999\"         \n",
       " [4] \"delong_2017\"           \"flinn_1991\"            \"gaussian_1987\"        \n",
       " [7] \"hinshelwood_1947\"      \"joehnk_2008\"           \"johnsonlewin_1946\"    \n",
       "[10] \"kamykowski_1985\"       \"lactin2_1995\"          \"modifiedgaussian_2006\"\n",
       "[13] \"oneill_1972\"           \"pawar_2018\"            \"quadratic_2008\"       \n",
       "[16] \"ratkowsky_1983\"        \"rezende_2019\"          \"sharpeschoolfull_1981\"\n",
       "[19] \"sharpeschoolhigh_1981\" \"sharpeschoollow_1981\"  \"spain_1982\"           \n",
       "[22] \"thomas_2012\"           \"thomas_2017\"           \"weibull_1995\"         "
      ]
     },
     "metadata": {},
     "output_type": "display_data"
    }
   ],
   "source": [
    "#take a look at the different models available\n",
    "get_model_names()"
   ]
  },
  {
   "cell_type": "code",
   "execution_count": 3,
   "metadata": {},
   "outputs": [],
   "source": [
    "#read in the trait data\n",
    "final_trait_data <- read.csv('../data/Final_Traitofinterest.csv')"
   ]
  },
  {
   "cell_type": "code",
   "execution_count": 4,
   "metadata": {},
   "outputs": [],
   "source": [
    "#remove completely irrelevant columns \n",
    "df <- final_trait_data[,colSums(is.na(final_trait_data))<nrow(final_trait_data)]"
   ]
  },
  {
   "cell_type": "code",
   "execution_count": 5,
   "metadata": {},
   "outputs": [],
   "source": [
    "#filter to single species and trait\n",
    "df2 <- dplyr::filter(df, originalid == 'csm7I')"
   ]
  },
  {
   "cell_type": "code",
   "execution_count": 6,
   "metadata": {},
   "outputs": [
    {
     "data": {
      "text/html": [
       "<table class=\"dataframe\">\n",
       "<caption>A data.frame: 11 × 120</caption>\n",
       "<thead>\n",
       "\t<tr><th scope=col>X.1</th><th scope=col>X</th><th scope=col>originalid</th><th scope=col>originaltraitname</th><th scope=col>originaltraitdef</th><th scope=col>standardisedtraitname</th><th scope=col>standardisedtraitdef</th><th scope=col>originaltraitvalue</th><th scope=col>originaltraitunit</th><th scope=col>originalerrorpos</th><th scope=col>⋯</th><th scope=col>physicalprocess</th><th scope=col>physicalprocess_1</th><th scope=col>physicalprocess_2</th><th scope=col>figuretable</th><th scope=col>citation</th><th scope=col>doi</th><th scope=col>submittedby</th><th scope=col>contributoremail</th><th scope=col>notes</th><th scope=col>VecMismatchID</th></tr>\n",
       "\t<tr><th scope=col>&lt;int&gt;</th><th scope=col>&lt;int&gt;</th><th scope=col>&lt;fct&gt;</th><th scope=col>&lt;fct&gt;</th><th scope=col>&lt;fct&gt;</th><th scope=col>&lt;fct&gt;</th><th scope=col>&lt;fct&gt;</th><th scope=col>&lt;dbl&gt;</th><th scope=col>&lt;fct&gt;</th><th scope=col>&lt;dbl&gt;</th><th scope=col>⋯</th><th scope=col>&lt;fct&gt;</th><th scope=col>&lt;fct&gt;</th><th scope=col>&lt;fct&gt;</th><th scope=col>&lt;fct&gt;</th><th scope=col>&lt;fct&gt;</th><th scope=col>&lt;fct&gt;</th><th scope=col>&lt;fct&gt;</th><th scope=col>&lt;fct&gt;</th><th scope=col>&lt;fct&gt;</th><th scope=col>&lt;int&gt;</th></tr>\n",
       "</thead>\n",
       "<tbody>\n",
       "\t<tr><td>1822</td><td>10471</td><td>csm7I</td><td>Development Rate</td><td></td><td>NA</td><td>NA</td><td>0.03868572</td><td>1/day</td><td>NA</td><td>⋯</td><td>NA</td><td>NA</td><td>NA</td><td>NA</td><td>Roy, Mich&lt;8f&gt;le, Jacques Brodeur, and Conrad Cloutier. \"Relationship between temperature and developmental rate of Stethorus punctillum (Coleoptera: Coccinellidae) and its prey Tetranychus mcdanieli (Acarina: Tetranychidae).\" Environmental Entomology 31.1 (2002): 177-187.</td><td>10.1603/0046-225X-31.1.198</td><td>Cera Mai</td><td>csm417@ic.ac.uk</td><td></td><td>69</td></tr>\n",
       "\t<tr><td>1823</td><td>10481</td><td>csm7I</td><td>Development Rate</td><td></td><td>NA</td><td>NA</td><td>0.05703669</td><td>1/day</td><td>NA</td><td>⋯</td><td>NA</td><td>NA</td><td>NA</td><td>NA</td><td>Roy, Mich&lt;8f&gt;le, Jacques Brodeur, and Conrad Cloutier. \"Relationship between temperature and developmental rate of Stethorus punctillum (Coleoptera: Coccinellidae) and its prey Tetranychus mcdanieli (Acarina: Tetranychidae).\" Environmental Entomology 31.1 (2002): 177-187.</td><td>10.1603/0046-225X-31.1.199</td><td>Cera Mai</td><td>csm417@ic.ac.uk</td><td></td><td>69</td></tr>\n",
       "\t<tr><td>1824</td><td>10491</td><td>csm7I</td><td>Development Rate</td><td></td><td>NA</td><td>NA</td><td>0.08269028</td><td>1/day</td><td>NA</td><td>⋯</td><td>NA</td><td>NA</td><td>NA</td><td>NA</td><td>Roy, Mich&lt;8f&gt;le, Jacques Brodeur, and Conrad Cloutier. \"Relationship between temperature and developmental rate of Stethorus punctillum (Coleoptera: Coccinellidae) and its prey Tetranychus mcdanieli (Acarina: Tetranychidae).\" Environmental Entomology 31.1 (2002): 177-187.</td><td>10.1603/0046-225X-31.1.200</td><td>Cera Mai</td><td>csm417@ic.ac.uk</td><td></td><td>69</td></tr>\n",
       "\t<tr><td>1825</td><td>10501</td><td>csm7I</td><td>Development Rate</td><td></td><td>NA</td><td>NA</td><td>0.14311831</td><td>1/day</td><td>NA</td><td>⋯</td><td>NA</td><td>NA</td><td>NA</td><td>NA</td><td>Roy, Mich&lt;8f&gt;le, Jacques Brodeur, and Conrad Cloutier. \"Relationship between temperature and developmental rate of Stethorus punctillum (Coleoptera: Coccinellidae) and its prey Tetranychus mcdanieli (Acarina: Tetranychidae).\" Environmental Entomology 31.1 (2002): 177-187.</td><td>10.1603/0046-225X-31.1.201</td><td>Cera Mai</td><td>csm417@ic.ac.uk</td><td></td><td>69</td></tr>\n",
       "\t<tr><td>1826</td><td>10511</td><td>csm7I</td><td>Development Rate</td><td></td><td>NA</td><td>NA</td><td>0.22361614</td><td>1/day</td><td>NA</td><td>⋯</td><td>NA</td><td>NA</td><td>NA</td><td>NA</td><td>Roy, Mich&lt;8f&gt;le, Jacques Brodeur, and Conrad Cloutier. \"Relationship between temperature and developmental rate of Stethorus punctillum (Coleoptera: Coccinellidae) and its prey Tetranychus mcdanieli (Acarina: Tetranychidae).\" Environmental Entomology 31.1 (2002): 177-187.</td><td>10.1603/0046-225X-31.1.202</td><td>Cera Mai</td><td>csm417@ic.ac.uk</td><td></td><td>69</td></tr>\n",
       "\t<tr><td>1827</td><td>10521</td><td>csm7I</td><td>Development Rate</td><td></td><td>NA</td><td>NA</td><td>0.32054076</td><td>1/day</td><td>NA</td><td>⋯</td><td>NA</td><td>NA</td><td>NA</td><td>NA</td><td>Roy, Mich&lt;8f&gt;le, Jacques Brodeur, and Conrad Cloutier. \"Relationship between temperature and developmental rate of Stethorus punctillum (Coleoptera: Coccinellidae) and its prey Tetranychus mcdanieli (Acarina: Tetranychidae).\" Environmental Entomology 31.1 (2002): 177-187.</td><td>10.1603/0046-225X-31.1.203</td><td>Cera Mai</td><td>csm417@ic.ac.uk</td><td></td><td>69</td></tr>\n",
       "\t<tr><td>1828</td><td>10531</td><td>csm7I</td><td>Development Rate</td><td></td><td>NA</td><td>NA</td><td>0.36444265</td><td>1/day</td><td>NA</td><td>⋯</td><td>NA</td><td>NA</td><td>NA</td><td>NA</td><td>Roy, Mich&lt;8f&gt;le, Jacques Brodeur, and Conrad Cloutier. \"Relationship between temperature and developmental rate of Stethorus punctillum (Coleoptera: Coccinellidae) and its prey Tetranychus mcdanieli (Acarina: Tetranychidae).\" Environmental Entomology 31.1 (2002): 177-187.</td><td>10.1603/0046-225X-31.1.204</td><td>Cera Mai</td><td>csm417@ic.ac.uk</td><td></td><td>69</td></tr>\n",
       "\t<tr><td>1829</td><td>10541</td><td>csm7I</td><td>Development Rate</td><td></td><td>NA</td><td>NA</td><td>0.39921708</td><td>1/day</td><td>NA</td><td>⋯</td><td>NA</td><td>NA</td><td>NA</td><td>NA</td><td>Roy, Mich&lt;8f&gt;le, Jacques Brodeur, and Conrad Cloutier. \"Relationship between temperature and developmental rate of Stethorus punctillum (Coleoptera: Coccinellidae) and its prey Tetranychus mcdanieli (Acarina: Tetranychidae).\" Environmental Entomology 31.1 (2002): 177-187.</td><td>10.1603/0046-225X-31.1.205</td><td>Cera Mai</td><td>csm417@ic.ac.uk</td><td></td><td>69</td></tr>\n",
       "\t<tr><td>1830</td><td>10551</td><td>csm7I</td><td>Development Rate</td><td></td><td>NA</td><td>NA</td><td>0.43399151</td><td>1/day</td><td>NA</td><td>⋯</td><td>NA</td><td>NA</td><td>NA</td><td>NA</td><td>Roy, Mich&lt;8f&gt;le, Jacques Brodeur, and Conrad Cloutier. \"Relationship between temperature and developmental rate of Stethorus punctillum (Coleoptera: Coccinellidae) and its prey Tetranychus mcdanieli (Acarina: Tetranychidae).\" Environmental Entomology 31.1 (2002): 177-187.</td><td>10.1603/0046-225X-31.1.206</td><td>Cera Mai</td><td>csm417@ic.ac.uk</td><td></td><td>69</td></tr>\n",
       "\t<tr><td>1831</td><td>10561</td><td>csm7I</td><td>Development Rate</td><td></td><td>NA</td><td>NA</td><td>0.43957529</td><td>1/day</td><td>NA</td><td>⋯</td><td>NA</td><td>NA</td><td>NA</td><td>NA</td><td>Roy, Mich&lt;8f&gt;le, Jacques Brodeur, and Conrad Cloutier. \"Relationship between temperature and developmental rate of Stethorus punctillum (Coleoptera: Coccinellidae) and its prey Tetranychus mcdanieli (Acarina: Tetranychidae).\" Environmental Entomology 31.1 (2002): 177-187.</td><td>10.1603/0046-225X-31.1.207</td><td>Cera Mai</td><td>csm417@ic.ac.uk</td><td></td><td>69</td></tr>\n",
       "\t<tr><td>1832</td><td>10571</td><td>csm7I</td><td>Development Rate</td><td></td><td>NA</td><td>NA</td><td>0.39587873</td><td>1/day</td><td>NA</td><td>⋯</td><td>NA</td><td>NA</td><td>NA</td><td>NA</td><td>Roy, Mich&lt;8f&gt;le, Jacques Brodeur, and Conrad Cloutier. \"Relationship between temperature and developmental rate of Stethorus punctillum (Coleoptera: Coccinellidae) and its prey Tetranychus mcdanieli (Acarina: Tetranychidae).\" Environmental Entomology 31.1 (2002): 177-187.</td><td>10.1603/0046-225X-31.1.208</td><td>Cera Mai</td><td>csm417@ic.ac.uk</td><td></td><td>69</td></tr>\n",
       "</tbody>\n",
       "</table>\n"
      ],
      "text/latex": [
       "A data.frame: 11 × 120\n",
       "\\begin{tabular}{lllllllllllllllllllll}\n",
       " X.1 & X & originalid & originaltraitname & originaltraitdef & standardisedtraitname & standardisedtraitdef & originaltraitvalue & originaltraitunit & originalerrorpos & ⋯ & physicalprocess & physicalprocess\\_1 & physicalprocess\\_2 & figuretable & citation & doi & submittedby & contributoremail & notes & VecMismatchID\\\\\n",
       " <int> & <int> & <fct> & <fct> & <fct> & <fct> & <fct> & <dbl> & <fct> & <dbl> & ⋯ & <fct> & <fct> & <fct> & <fct> & <fct> & <fct> & <fct> & <fct> & <fct> & <int>\\\\\n",
       "\\hline\n",
       "\t 1822 & 10471 & csm7I & Development Rate &  & NA & NA & 0.03868572 & 1/day & NA & ⋯ & NA & NA & NA & NA & Roy, Mich<8f>le, Jacques Brodeur, and Conrad Cloutier. \"Relationship between temperature and developmental rate of Stethorus punctillum (Coleoptera: Coccinellidae) and its prey Tetranychus mcdanieli (Acarina: Tetranychidae).\" Environmental Entomology 31.1 (2002): 177-187. & 10.1603/0046-225X-31.1.198 & Cera Mai & csm417@ic.ac.uk &  & 69\\\\\n",
       "\t 1823 & 10481 & csm7I & Development Rate &  & NA & NA & 0.05703669 & 1/day & NA & ⋯ & NA & NA & NA & NA & Roy, Mich<8f>le, Jacques Brodeur, and Conrad Cloutier. \"Relationship between temperature and developmental rate of Stethorus punctillum (Coleoptera: Coccinellidae) and its prey Tetranychus mcdanieli (Acarina: Tetranychidae).\" Environmental Entomology 31.1 (2002): 177-187. & 10.1603/0046-225X-31.1.199 & Cera Mai & csm417@ic.ac.uk &  & 69\\\\\n",
       "\t 1824 & 10491 & csm7I & Development Rate &  & NA & NA & 0.08269028 & 1/day & NA & ⋯ & NA & NA & NA & NA & Roy, Mich<8f>le, Jacques Brodeur, and Conrad Cloutier. \"Relationship between temperature and developmental rate of Stethorus punctillum (Coleoptera: Coccinellidae) and its prey Tetranychus mcdanieli (Acarina: Tetranychidae).\" Environmental Entomology 31.1 (2002): 177-187. & 10.1603/0046-225X-31.1.200 & Cera Mai & csm417@ic.ac.uk &  & 69\\\\\n",
       "\t 1825 & 10501 & csm7I & Development Rate &  & NA & NA & 0.14311831 & 1/day & NA & ⋯ & NA & NA & NA & NA & Roy, Mich<8f>le, Jacques Brodeur, and Conrad Cloutier. \"Relationship between temperature and developmental rate of Stethorus punctillum (Coleoptera: Coccinellidae) and its prey Tetranychus mcdanieli (Acarina: Tetranychidae).\" Environmental Entomology 31.1 (2002): 177-187. & 10.1603/0046-225X-31.1.201 & Cera Mai & csm417@ic.ac.uk &  & 69\\\\\n",
       "\t 1826 & 10511 & csm7I & Development Rate &  & NA & NA & 0.22361614 & 1/day & NA & ⋯ & NA & NA & NA & NA & Roy, Mich<8f>le, Jacques Brodeur, and Conrad Cloutier. \"Relationship between temperature and developmental rate of Stethorus punctillum (Coleoptera: Coccinellidae) and its prey Tetranychus mcdanieli (Acarina: Tetranychidae).\" Environmental Entomology 31.1 (2002): 177-187. & 10.1603/0046-225X-31.1.202 & Cera Mai & csm417@ic.ac.uk &  & 69\\\\\n",
       "\t 1827 & 10521 & csm7I & Development Rate &  & NA & NA & 0.32054076 & 1/day & NA & ⋯ & NA & NA & NA & NA & Roy, Mich<8f>le, Jacques Brodeur, and Conrad Cloutier. \"Relationship between temperature and developmental rate of Stethorus punctillum (Coleoptera: Coccinellidae) and its prey Tetranychus mcdanieli (Acarina: Tetranychidae).\" Environmental Entomology 31.1 (2002): 177-187. & 10.1603/0046-225X-31.1.203 & Cera Mai & csm417@ic.ac.uk &  & 69\\\\\n",
       "\t 1828 & 10531 & csm7I & Development Rate &  & NA & NA & 0.36444265 & 1/day & NA & ⋯ & NA & NA & NA & NA & Roy, Mich<8f>le, Jacques Brodeur, and Conrad Cloutier. \"Relationship between temperature and developmental rate of Stethorus punctillum (Coleoptera: Coccinellidae) and its prey Tetranychus mcdanieli (Acarina: Tetranychidae).\" Environmental Entomology 31.1 (2002): 177-187. & 10.1603/0046-225X-31.1.204 & Cera Mai & csm417@ic.ac.uk &  & 69\\\\\n",
       "\t 1829 & 10541 & csm7I & Development Rate &  & NA & NA & 0.39921708 & 1/day & NA & ⋯ & NA & NA & NA & NA & Roy, Mich<8f>le, Jacques Brodeur, and Conrad Cloutier. \"Relationship between temperature and developmental rate of Stethorus punctillum (Coleoptera: Coccinellidae) and its prey Tetranychus mcdanieli (Acarina: Tetranychidae).\" Environmental Entomology 31.1 (2002): 177-187. & 10.1603/0046-225X-31.1.205 & Cera Mai & csm417@ic.ac.uk &  & 69\\\\\n",
       "\t 1830 & 10551 & csm7I & Development Rate &  & NA & NA & 0.43399151 & 1/day & NA & ⋯ & NA & NA & NA & NA & Roy, Mich<8f>le, Jacques Brodeur, and Conrad Cloutier. \"Relationship between temperature and developmental rate of Stethorus punctillum (Coleoptera: Coccinellidae) and its prey Tetranychus mcdanieli (Acarina: Tetranychidae).\" Environmental Entomology 31.1 (2002): 177-187. & 10.1603/0046-225X-31.1.206 & Cera Mai & csm417@ic.ac.uk &  & 69\\\\\n",
       "\t 1831 & 10561 & csm7I & Development Rate &  & NA & NA & 0.43957529 & 1/day & NA & ⋯ & NA & NA & NA & NA & Roy, Mich<8f>le, Jacques Brodeur, and Conrad Cloutier. \"Relationship between temperature and developmental rate of Stethorus punctillum (Coleoptera: Coccinellidae) and its prey Tetranychus mcdanieli (Acarina: Tetranychidae).\" Environmental Entomology 31.1 (2002): 177-187. & 10.1603/0046-225X-31.1.207 & Cera Mai & csm417@ic.ac.uk &  & 69\\\\\n",
       "\t 1832 & 10571 & csm7I & Development Rate &  & NA & NA & 0.39587873 & 1/day & NA & ⋯ & NA & NA & NA & NA & Roy, Mich<8f>le, Jacques Brodeur, and Conrad Cloutier. \"Relationship between temperature and developmental rate of Stethorus punctillum (Coleoptera: Coccinellidae) and its prey Tetranychus mcdanieli (Acarina: Tetranychidae).\" Environmental Entomology 31.1 (2002): 177-187. & 10.1603/0046-225X-31.1.208 & Cera Mai & csm417@ic.ac.uk &  & 69\\\\\n",
       "\\end{tabular}\n"
      ],
      "text/markdown": [
       "\n",
       "A data.frame: 11 × 120\n",
       "\n",
       "| X.1 &lt;int&gt; | X &lt;int&gt; | originalid &lt;fct&gt; | originaltraitname &lt;fct&gt; | originaltraitdef &lt;fct&gt; | standardisedtraitname &lt;fct&gt; | standardisedtraitdef &lt;fct&gt; | originaltraitvalue &lt;dbl&gt; | originaltraitunit &lt;fct&gt; | originalerrorpos &lt;dbl&gt; | ⋯ ⋯ | physicalprocess &lt;fct&gt; | physicalprocess_1 &lt;fct&gt; | physicalprocess_2 &lt;fct&gt; | figuretable &lt;fct&gt; | citation &lt;fct&gt; | doi &lt;fct&gt; | submittedby &lt;fct&gt; | contributoremail &lt;fct&gt; | notes &lt;fct&gt; | VecMismatchID &lt;int&gt; |\n",
       "|---|---|---|---|---|---|---|---|---|---|---|---|---|---|---|---|---|---|---|---|---|\n",
       "| 1822 | 10471 | csm7I | Development Rate | <!----> | NA | NA | 0.03868572 | 1/day | NA | ⋯ | NA | NA | NA | NA | Roy, Mich&lt;8f&gt;le, Jacques Brodeur, and Conrad Cloutier. \"Relationship between temperature and developmental rate of Stethorus punctillum (Coleoptera: Coccinellidae) and its prey Tetranychus mcdanieli (Acarina: Tetranychidae).\" Environmental Entomology 31.1 (2002): 177-187. | 10.1603/0046-225X-31.1.198 | Cera Mai | csm417@ic.ac.uk | <!----> | 69 |\n",
       "| 1823 | 10481 | csm7I | Development Rate | <!----> | NA | NA | 0.05703669 | 1/day | NA | ⋯ | NA | NA | NA | NA | Roy, Mich&lt;8f&gt;le, Jacques Brodeur, and Conrad Cloutier. \"Relationship between temperature and developmental rate of Stethorus punctillum (Coleoptera: Coccinellidae) and its prey Tetranychus mcdanieli (Acarina: Tetranychidae).\" Environmental Entomology 31.1 (2002): 177-187. | 10.1603/0046-225X-31.1.199 | Cera Mai | csm417@ic.ac.uk | <!----> | 69 |\n",
       "| 1824 | 10491 | csm7I | Development Rate | <!----> | NA | NA | 0.08269028 | 1/day | NA | ⋯ | NA | NA | NA | NA | Roy, Mich&lt;8f&gt;le, Jacques Brodeur, and Conrad Cloutier. \"Relationship between temperature and developmental rate of Stethorus punctillum (Coleoptera: Coccinellidae) and its prey Tetranychus mcdanieli (Acarina: Tetranychidae).\" Environmental Entomology 31.1 (2002): 177-187. | 10.1603/0046-225X-31.1.200 | Cera Mai | csm417@ic.ac.uk | <!----> | 69 |\n",
       "| 1825 | 10501 | csm7I | Development Rate | <!----> | NA | NA | 0.14311831 | 1/day | NA | ⋯ | NA | NA | NA | NA | Roy, Mich&lt;8f&gt;le, Jacques Brodeur, and Conrad Cloutier. \"Relationship between temperature and developmental rate of Stethorus punctillum (Coleoptera: Coccinellidae) and its prey Tetranychus mcdanieli (Acarina: Tetranychidae).\" Environmental Entomology 31.1 (2002): 177-187. | 10.1603/0046-225X-31.1.201 | Cera Mai | csm417@ic.ac.uk | <!----> | 69 |\n",
       "| 1826 | 10511 | csm7I | Development Rate | <!----> | NA | NA | 0.22361614 | 1/day | NA | ⋯ | NA | NA | NA | NA | Roy, Mich&lt;8f&gt;le, Jacques Brodeur, and Conrad Cloutier. \"Relationship between temperature and developmental rate of Stethorus punctillum (Coleoptera: Coccinellidae) and its prey Tetranychus mcdanieli (Acarina: Tetranychidae).\" Environmental Entomology 31.1 (2002): 177-187. | 10.1603/0046-225X-31.1.202 | Cera Mai | csm417@ic.ac.uk | <!----> | 69 |\n",
       "| 1827 | 10521 | csm7I | Development Rate | <!----> | NA | NA | 0.32054076 | 1/day | NA | ⋯ | NA | NA | NA | NA | Roy, Mich&lt;8f&gt;le, Jacques Brodeur, and Conrad Cloutier. \"Relationship between temperature and developmental rate of Stethorus punctillum (Coleoptera: Coccinellidae) and its prey Tetranychus mcdanieli (Acarina: Tetranychidae).\" Environmental Entomology 31.1 (2002): 177-187. | 10.1603/0046-225X-31.1.203 | Cera Mai | csm417@ic.ac.uk | <!----> | 69 |\n",
       "| 1828 | 10531 | csm7I | Development Rate | <!----> | NA | NA | 0.36444265 | 1/day | NA | ⋯ | NA | NA | NA | NA | Roy, Mich&lt;8f&gt;le, Jacques Brodeur, and Conrad Cloutier. \"Relationship between temperature and developmental rate of Stethorus punctillum (Coleoptera: Coccinellidae) and its prey Tetranychus mcdanieli (Acarina: Tetranychidae).\" Environmental Entomology 31.1 (2002): 177-187. | 10.1603/0046-225X-31.1.204 | Cera Mai | csm417@ic.ac.uk | <!----> | 69 |\n",
       "| 1829 | 10541 | csm7I | Development Rate | <!----> | NA | NA | 0.39921708 | 1/day | NA | ⋯ | NA | NA | NA | NA | Roy, Mich&lt;8f&gt;le, Jacques Brodeur, and Conrad Cloutier. \"Relationship between temperature and developmental rate of Stethorus punctillum (Coleoptera: Coccinellidae) and its prey Tetranychus mcdanieli (Acarina: Tetranychidae).\" Environmental Entomology 31.1 (2002): 177-187. | 10.1603/0046-225X-31.1.205 | Cera Mai | csm417@ic.ac.uk | <!----> | 69 |\n",
       "| 1830 | 10551 | csm7I | Development Rate | <!----> | NA | NA | 0.43399151 | 1/day | NA | ⋯ | NA | NA | NA | NA | Roy, Mich&lt;8f&gt;le, Jacques Brodeur, and Conrad Cloutier. \"Relationship between temperature and developmental rate of Stethorus punctillum (Coleoptera: Coccinellidae) and its prey Tetranychus mcdanieli (Acarina: Tetranychidae).\" Environmental Entomology 31.1 (2002): 177-187. | 10.1603/0046-225X-31.1.206 | Cera Mai | csm417@ic.ac.uk | <!----> | 69 |\n",
       "| 1831 | 10561 | csm7I | Development Rate | <!----> | NA | NA | 0.43957529 | 1/day | NA | ⋯ | NA | NA | NA | NA | Roy, Mich&lt;8f&gt;le, Jacques Brodeur, and Conrad Cloutier. \"Relationship between temperature and developmental rate of Stethorus punctillum (Coleoptera: Coccinellidae) and its prey Tetranychus mcdanieli (Acarina: Tetranychidae).\" Environmental Entomology 31.1 (2002): 177-187. | 10.1603/0046-225X-31.1.207 | Cera Mai | csm417@ic.ac.uk | <!----> | 69 |\n",
       "| 1832 | 10571 | csm7I | Development Rate | <!----> | NA | NA | 0.39587873 | 1/day | NA | ⋯ | NA | NA | NA | NA | Roy, Mich&lt;8f&gt;le, Jacques Brodeur, and Conrad Cloutier. \"Relationship between temperature and developmental rate of Stethorus punctillum (Coleoptera: Coccinellidae) and its prey Tetranychus mcdanieli (Acarina: Tetranychidae).\" Environmental Entomology 31.1 (2002): 177-187. | 10.1603/0046-225X-31.1.208 | Cera Mai | csm417@ic.ac.uk | <!----> | 69 |\n",
       "\n"
      ],
      "text/plain": [
       "   X.1  X     originalid originaltraitname originaltraitdef\n",
       "1  1822 10471 csm7I      Development Rate                  \n",
       "2  1823 10481 csm7I      Development Rate                  \n",
       "3  1824 10491 csm7I      Development Rate                  \n",
       "4  1825 10501 csm7I      Development Rate                  \n",
       "5  1826 10511 csm7I      Development Rate                  \n",
       "6  1827 10521 csm7I      Development Rate                  \n",
       "7  1828 10531 csm7I      Development Rate                  \n",
       "8  1829 10541 csm7I      Development Rate                  \n",
       "9  1830 10551 csm7I      Development Rate                  \n",
       "10 1831 10561 csm7I      Development Rate                  \n",
       "11 1832 10571 csm7I      Development Rate                  \n",
       "   standardisedtraitname standardisedtraitdef originaltraitvalue\n",
       "1  NA                    NA                   0.03868572        \n",
       "2  NA                    NA                   0.05703669        \n",
       "3  NA                    NA                   0.08269028        \n",
       "4  NA                    NA                   0.14311831        \n",
       "5  NA                    NA                   0.22361614        \n",
       "6  NA                    NA                   0.32054076        \n",
       "7  NA                    NA                   0.36444265        \n",
       "8  NA                    NA                   0.39921708        \n",
       "9  NA                    NA                   0.43399151        \n",
       "10 NA                    NA                   0.43957529        \n",
       "11 NA                    NA                   0.39587873        \n",
       "   originaltraitunit originalerrorpos ⋯ physicalprocess physicalprocess_1\n",
       "1  1/day             NA               ⋯ NA              NA               \n",
       "2  1/day             NA               ⋯ NA              NA               \n",
       "3  1/day             NA               ⋯ NA              NA               \n",
       "4  1/day             NA               ⋯ NA              NA               \n",
       "5  1/day             NA               ⋯ NA              NA               \n",
       "6  1/day             NA               ⋯ NA              NA               \n",
       "7  1/day             NA               ⋯ NA              NA               \n",
       "8  1/day             NA               ⋯ NA              NA               \n",
       "9  1/day             NA               ⋯ NA              NA               \n",
       "10 1/day             NA               ⋯ NA              NA               \n",
       "11 1/day             NA               ⋯ NA              NA               \n",
       "   physicalprocess_2 figuretable\n",
       "1  NA                NA         \n",
       "2  NA                NA         \n",
       "3  NA                NA         \n",
       "4  NA                NA         \n",
       "5  NA                NA         \n",
       "6  NA                NA         \n",
       "7  NA                NA         \n",
       "8  NA                NA         \n",
       "9  NA                NA         \n",
       "10 NA                NA         \n",
       "11 NA                NA         \n",
       "   citation                                                                                                                                                                                                                                                                        \n",
       "1  Roy, Mich\\x8fle, Jacques Brodeur, and Conrad Cloutier. \"Relationship between temperature and developmental rate of Stethorus punctillum (Coleoptera: Coccinellidae) and its prey Tetranychus mcdanieli (Acarina: Tetranychidae).\" Environmental Entomology 31.1 (2002): 177-187.\n",
       "2  Roy, Mich\\x8fle, Jacques Brodeur, and Conrad Cloutier. \"Relationship between temperature and developmental rate of Stethorus punctillum (Coleoptera: Coccinellidae) and its prey Tetranychus mcdanieli (Acarina: Tetranychidae).\" Environmental Entomology 31.1 (2002): 177-187.\n",
       "3  Roy, Mich\\x8fle, Jacques Brodeur, and Conrad Cloutier. \"Relationship between temperature and developmental rate of Stethorus punctillum (Coleoptera: Coccinellidae) and its prey Tetranychus mcdanieli (Acarina: Tetranychidae).\" Environmental Entomology 31.1 (2002): 177-187.\n",
       "4  Roy, Mich\\x8fle, Jacques Brodeur, and Conrad Cloutier. \"Relationship between temperature and developmental rate of Stethorus punctillum (Coleoptera: Coccinellidae) and its prey Tetranychus mcdanieli (Acarina: Tetranychidae).\" Environmental Entomology 31.1 (2002): 177-187.\n",
       "5  Roy, Mich\\x8fle, Jacques Brodeur, and Conrad Cloutier. \"Relationship between temperature and developmental rate of Stethorus punctillum (Coleoptera: Coccinellidae) and its prey Tetranychus mcdanieli (Acarina: Tetranychidae).\" Environmental Entomology 31.1 (2002): 177-187.\n",
       "6  Roy, Mich\\x8fle, Jacques Brodeur, and Conrad Cloutier. \"Relationship between temperature and developmental rate of Stethorus punctillum (Coleoptera: Coccinellidae) and its prey Tetranychus mcdanieli (Acarina: Tetranychidae).\" Environmental Entomology 31.1 (2002): 177-187.\n",
       "7  Roy, Mich\\x8fle, Jacques Brodeur, and Conrad Cloutier. \"Relationship between temperature and developmental rate of Stethorus punctillum (Coleoptera: Coccinellidae) and its prey Tetranychus mcdanieli (Acarina: Tetranychidae).\" Environmental Entomology 31.1 (2002): 177-187.\n",
       "8  Roy, Mich\\x8fle, Jacques Brodeur, and Conrad Cloutier. \"Relationship between temperature and developmental rate of Stethorus punctillum (Coleoptera: Coccinellidae) and its prey Tetranychus mcdanieli (Acarina: Tetranychidae).\" Environmental Entomology 31.1 (2002): 177-187.\n",
       "9  Roy, Mich\\x8fle, Jacques Brodeur, and Conrad Cloutier. \"Relationship between temperature and developmental rate of Stethorus punctillum (Coleoptera: Coccinellidae) and its prey Tetranychus mcdanieli (Acarina: Tetranychidae).\" Environmental Entomology 31.1 (2002): 177-187.\n",
       "10 Roy, Mich\\x8fle, Jacques Brodeur, and Conrad Cloutier. \"Relationship between temperature and developmental rate of Stethorus punctillum (Coleoptera: Coccinellidae) and its prey Tetranychus mcdanieli (Acarina: Tetranychidae).\" Environmental Entomology 31.1 (2002): 177-187.\n",
       "11 Roy, Mich\\x8fle, Jacques Brodeur, and Conrad Cloutier. \"Relationship between temperature and developmental rate of Stethorus punctillum (Coleoptera: Coccinellidae) and its prey Tetranychus mcdanieli (Acarina: Tetranychidae).\" Environmental Entomology 31.1 (2002): 177-187.\n",
       "   doi                        submittedby contributoremail notes VecMismatchID\n",
       "1  10.1603/0046-225X-31.1.198 Cera Mai    csm417@ic.ac.uk        69           \n",
       "2  10.1603/0046-225X-31.1.199 Cera Mai    csm417@ic.ac.uk        69           \n",
       "3  10.1603/0046-225X-31.1.200 Cera Mai    csm417@ic.ac.uk        69           \n",
       "4  10.1603/0046-225X-31.1.201 Cera Mai    csm417@ic.ac.uk        69           \n",
       "5  10.1603/0046-225X-31.1.202 Cera Mai    csm417@ic.ac.uk        69           \n",
       "6  10.1603/0046-225X-31.1.203 Cera Mai    csm417@ic.ac.uk        69           \n",
       "7  10.1603/0046-225X-31.1.204 Cera Mai    csm417@ic.ac.uk        69           \n",
       "8  10.1603/0046-225X-31.1.205 Cera Mai    csm417@ic.ac.uk        69           \n",
       "9  10.1603/0046-225X-31.1.206 Cera Mai    csm417@ic.ac.uk        69           \n",
       "10 10.1603/0046-225X-31.1.207 Cera Mai    csm417@ic.ac.uk        69           \n",
       "11 10.1603/0046-225X-31.1.208 Cera Mai    csm417@ic.ac.uk        69           "
      ]
     },
     "metadata": {},
     "output_type": "display_data"
    }
   ],
   "source": [
    "df2"
   ]
  },
  {
   "cell_type": "code",
   "execution_count": 7,
   "metadata": {},
   "outputs": [
    {
     "data": {
      "image/png": "[encoded data removed]",
      "text/plain": [
       "plot without title"
      ]
     },
     "metadata": {
      "image/png": {
       "height": 420,
       "width": 420
      }
     },
     "output_type": "display_data"
    }
   ],
   "source": [
    "#visualize\n",
    "ggplot(df2, aes(ambienttemp, originaltraitvalue))+\n",
    "  geom_point()+\n",
    "  theme_bw(base_size = 12) +\n",
    "  labs(x = 'Temperature (ºC)',\n",
    "       y = 'Development Rate',\n",
    "       title = 'Development Rate across temperatures for Tetranychus mcdanieli')"
   ]
  },
  {
   "cell_type": "code",
   "execution_count": 8,
   "metadata": {},
   "outputs": [],
   "source": [
    "# choose model\n",
    "mod = 'sharpschoolhigh_1981'"
   ]
  },
  {
   "cell_type": "code",
   "execution_count": 9,
   "metadata": {},
   "outputs": [],
   "source": [
    "# get start vals\n",
    "start_vals <- get_start_vals(df2$ambienttemp, df2$originaltraitvalue, model_name = 'sharpeschoolhigh_1981')"
   ]
  },
  {
   "cell_type": "code",
   "execution_count": 10,
   "metadata": {},
   "outputs": [],
   "source": [
    "# get limits\n",
    "low_lims <- get_lower_lims(df2$ambienttemp, df2$originaltraitvalue, model_name = 'sharpeschoolhigh_1981')\n",
    "upper_lims <- get_upper_lims(df2$ambienttemp, df2$originaltraitvalue, model_name = 'sharpeschoolhigh_1981')"
   ]
  },
  {
   "cell_type": "code",
   "execution_count": 11,
   "metadata": {},
   "outputs": [
    {
     "data": {
      "text/html": [
       "<style>\n",
       ".dl-inline {width: auto; margin:0; padding: 0}\n",
       ".dl-inline>dt, .dl-inline>dd {float: none; width: auto; display: inline-block}\n",
       ".dl-inline>dt::after {content: \":\\0020\"; padding-right: .5ex}\n",
       ".dl-inline>dt:not(:first-of-type) {padding-left: .5ex}\n",
       "</style><dl class=dl-inline><dt>r_tref</dt><dd>0.263526651</dd><dt>e</dt><dd>0.775809119388359</dd><dt>eh</dt><dd>0.456919000532076</dd><dt>th</dt><dd>37.004298785</dd></dl>\n"
      ],
      "text/latex": [
       "\\begin{description*}\n",
       "\\item[r\\textbackslash{}\\_tref] 0.263526651\n",
       "\\item[e] 0.775809119388359\n",
       "\\item[eh] 0.456919000532076\n",
       "\\item[th] 37.004298785\n",
       "\\end{description*}\n"
      ],
      "text/markdown": [
       "r_tref\n",
       ":   0.263526651e\n",
       ":   0.775809119388359eh\n",
       ":   0.456919000532076th\n",
       ":   37.004298785\n",
       "\n"
      ],
      "text/plain": [
       "    r_tref          e         eh         th \n",
       " 0.2635267  0.7758091  0.4569190 37.0042988 "
      ]
     },
     "metadata": {},
     "output_type": "display_data"
    }
   ],
   "source": [
    "start_vals"
   ]
  },
  {
   "cell_type": "code",
   "execution_count": 12,
   "metadata": {},
   "outputs": [
    {
     "data": {
      "text/html": [
       "<style>\n",
       ".dl-inline {width: auto; margin:0; padding: 0}\n",
       ".dl-inline>dt, .dl-inline>dd {float: none; width: auto; display: inline-block}\n",
       ".dl-inline>dt::after {content: \":\\0020\"; padding-right: .5ex}\n",
       ".dl-inline>dt:not(:first-of-type) {padding-left: .5ex}\n",
       "</style><dl class=dl-inline><dt>r_tref</dt><dd>0</dd><dt>e</dt><dd>0</dd><dt>eh</dt><dd>0</dd><dt>th</dt><dd>1</dd></dl>\n"
      ],
      "text/latex": [
       "\\begin{description*}\n",
       "\\item[r\\textbackslash{}\\_tref] 0\n",
       "\\item[e] 0\n",
       "\\item[eh] 0\n",
       "\\item[th] 1\n",
       "\\end{description*}\n"
      ],
      "text/markdown": [
       "r_tref\n",
       ":   0e\n",
       ":   0eh\n",
       ":   0th\n",
       ":   1\n",
       "\n"
      ],
      "text/plain": [
       "r_tref      e     eh     th \n",
       "     0      0      0      1 "
      ]
     },
     "metadata": {},
     "output_type": "display_data"
    }
   ],
   "source": [
    "low_lims"
   ]
  },
  {
   "cell_type": "code",
   "execution_count": 13,
   "metadata": {},
   "outputs": [
    {
     "data": {
      "text/html": [
       "<style>\n",
       ".dl-inline {width: auto; margin:0; padding: 0}\n",
       ".dl-inline>dt, .dl-inline>dd {float: none; width: auto; display: inline-block}\n",
       ".dl-inline>dt::after {content: \":\\0020\"; padding-right: .5ex}\n",
       ".dl-inline>dt:not(:first-of-type) {padding-left: .5ex}\n",
       "</style><dl class=dl-inline><dt>r_tref</dt><dd>0.439575288</dd><dt>e</dt><dd>10</dd><dt>eh</dt><dd>20</dd><dt>th</dt><dd>37.95433621</dd></dl>\n"
      ],
      "text/latex": [
       "\\begin{description*}\n",
       "\\item[r\\textbackslash{}\\_tref] 0.439575288\n",
       "\\item[e] 10\n",
       "\\item[eh] 20\n",
       "\\item[th] 37.95433621\n",
       "\\end{description*}\n"
      ],
      "text/markdown": [
       "r_tref\n",
       ":   0.439575288e\n",
       ":   10eh\n",
       ":   20th\n",
       ":   37.95433621\n",
       "\n"
      ],
      "text/plain": [
       "    r_tref          e         eh         th \n",
       " 0.4395753 10.0000000 20.0000000 37.9543362 "
      ]
     },
     "metadata": {},
     "output_type": "display_data"
    }
   ],
   "source": [
    "upper_lims"
   ]
  },
  {
   "cell_type": "code",
   "execution_count": 14,
   "metadata": {},
   "outputs": [
    {
     "data": {
      "text/plain": [
       "Nonlinear regression model\n",
       "  model: originaltraitvalue ~ sharpeschoolhigh_1981(temp = ambienttemp,     r_tref, e, eh, th, tref = 15)\n",
       "   data: data\n",
       "  r_tref        e       eh       th \n",
       " 0.07262  0.95862  1.90329 34.74431 \n",
       " residual sum-of-squares: 0.000596\n",
       "\n",
       "Number of iterations to convergence: 19 \n",
       "Achieved convergence tolerance: 1.49e-08"
      ]
     },
     "metadata": {},
     "output_type": "display_data"
    }
   ],
   "source": [
    "# fit model\n",
    "fit <- nls_multstart(originaltraitvalue~sharpeschoolhigh_1981(temp = ambienttemp, r_tref,e,eh,th, tref = 15),\n",
    "                     data = df2,\n",
    "                     iter = 500,\n",
    "                     start_lower = start_vals - 10,\n",
    "                     start_upper = start_vals + 10,\n",
    "                     lower = low_lims,\n",
    "                     upper = upper_lims,\n",
    "                     supp_errors = 'Y')\n",
    "fit"
   ]
  },
  {
   "cell_type": "code",
   "execution_count": 15,
   "metadata": {},
   "outputs": [
    {
     "data": {
      "text/html": [
       "<table class=\"dataframe\">\n",
       "<caption>A data.frame: 1 × 11</caption>\n",
       "<thead>\n",
       "\t<tr><th scope=col>rmax</th><th scope=col>topt</th><th scope=col>ctmin</th><th scope=col>ctmax</th><th scope=col>e</th><th scope=col>eh</th><th scope=col>q10</th><th scope=col>thermal_safety_margin</th><th scope=col>thermal_tolerance</th><th scope=col>breadth</th><th scope=col>skewness</th></tr>\n",
       "\t<tr><th scope=col>&lt;dbl&gt;</th><th scope=col>&lt;dbl&gt;</th><th scope=col>&lt;dbl&gt;</th><th scope=col>&lt;dbl&gt;</th><th scope=col>&lt;dbl&gt;</th><th scope=col>&lt;dbl&gt;</th><th scope=col>&lt;dbl&gt;</th><th scope=col>&lt;dbl&gt;</th><th scope=col>&lt;dbl&gt;</th><th scope=col>&lt;dbl&gt;</th><th scope=col>&lt;dbl&gt;</th></tr>\n",
       "</thead>\n",
       "<tbody>\n",
       "\t<tr><td>0.43</td><td>34.81</td><td>6.22</td><td>70.34</td><td>0.65</td><td>NA</td><td>2.34</td><td>35.53</td><td>64.12</td><td>8.98</td><td>NA</td></tr>\n",
       "</tbody>\n",
       "</table>\n"
      ],
      "text/latex": [
       "A data.frame: 1 × 11\n",
       "\\begin{tabular}{lllllllllll}\n",
       " rmax & topt & ctmin & ctmax & e & eh & q10 & thermal\\_safety\\_margin & thermal\\_tolerance & breadth & skewness\\\\\n",
       " <dbl> & <dbl> & <dbl> & <dbl> & <dbl> & <dbl> & <dbl> & <dbl> & <dbl> & <dbl> & <dbl>\\\\\n",
       "\\hline\n",
       "\t 0.43 & 34.81 & 6.22 & 70.34 & 0.65 & NA & 2.34 & 35.53 & 64.12 & 8.98 & NA\\\\\n",
       "\\end{tabular}\n"
      ],
      "text/markdown": [
       "\n",
       "A data.frame: 1 × 11\n",
       "\n",
       "| rmax &lt;dbl&gt; | topt &lt;dbl&gt; | ctmin &lt;dbl&gt; | ctmax &lt;dbl&gt; | e &lt;dbl&gt; | eh &lt;dbl&gt; | q10 &lt;dbl&gt; | thermal_safety_margin &lt;dbl&gt; | thermal_tolerance &lt;dbl&gt; | breadth &lt;dbl&gt; | skewness &lt;dbl&gt; |\n",
       "|---|---|---|---|---|---|---|---|---|---|---|\n",
       "| 0.43 | 34.81 | 6.22 | 70.34 | 0.65 | NA | 2.34 | 35.53 | 64.12 | 8.98 | NA |\n",
       "\n"
      ],
      "text/plain": [
       "  rmax topt  ctmin ctmax e    eh q10  thermal_safety_margin thermal_tolerance\n",
       "1 0.43 34.81 6.22  70.34 0.65 NA 2.34 35.53                 64.12            \n",
       "  breadth skewness\n",
       "1 8.98    NA      "
      ]
     },
     "metadata": {},
     "output_type": "display_data"
    }
   ],
   "source": [
    "# calculate additional traits\n",
    "calc_params(fit) %>%\n",
    "  # round for easy viewing\n",
    "  mutate_all(round, 2)"
   ]
  },
  {
   "cell_type": "code",
   "execution_count": 16,
   "metadata": {},
   "outputs": [],
   "source": [
    "# predict new data\n",
    "new_data <- data.frame(ambienttemp = seq(min(df2$ambienttemp), max(df2$ambienttemp), 0.5))\n",
    "preds <- augment(fit, newdata = new_data)"
   ]
  },
  {
   "cell_type": "code",
   "execution_count": 17,
   "metadata": {},
   "outputs": [
    {
     "data": {
      "image/png": "[encoded data removed]",
      "text/plain": [
       "plot without title"
      ]
     },
     "metadata": {
      "image/png": {
       "height": 420,
       "width": 420
      }
     },
     "output_type": "display_data"
    }
   ],
   "source": [
    "#visualize with new line\n",
    "ggplot(df2, aes(ambienttemp, originaltraitvalue))+\n",
    "  geom_point()+\n",
    "  geom_line(aes(ambienttemp, .fitted), preds, col = 'blue') +\n",
    "  theme_bw(base_size = 12) +\n",
    "  labs(x = 'Temperature (ºC)',\n",
    "       y = 'Development Rate',\n",
    "       title = 'Development Rate across Temperatures for Tetranychus mcdanieli')"
   ]
  }
 ],
 "metadata": {
  "kernelspec": {
   "display_name": "R",
   "language": "R",
   "name": "ir"
  },
  "language_info": {
   "codemirror_mode": "r",
   "file_extension": ".r",
   "mimetype": "text/x-r-source",
   "name": "R",
   "pygments_lexer": "r",
   "version": "3.6.3"
  }
 },
 "nbformat": 4,
 "nbformat_minor": 4
}
